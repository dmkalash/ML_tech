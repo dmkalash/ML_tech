{
 "cells": [
  {
   "cell_type": "markdown",
   "metadata": {},
   "source": [
    "### Алгоритмы интеллектуальной обработки больших объемов данных\n",
    "## Домашнее задание №4 - Градиентный бустинг\n"
   ]
  },
  {
   "cell_type": "markdown",
   "metadata": {},
   "source": [
    "**Общая информация**\n",
    "\n",
    "**Срок сдачи:** 21 декабря 2020, 08:30   \n",
    "**Штраф за опоздание:** -2 балла после 08:30 21 декабря, -4 балла после 08:30 28 декабря, -6 баллов после 08:30 04 янва, -8 баллов после 08:30 11 января.\n",
    "\n",
    "При отправлении ДЗ указывайте фамилию в названии файла Присылать ДЗ необходимо в виде ссылки на свой github репозиторий на почту ml1.sphere@mail.ru с указанием темы в следующем формате:\n",
    "[ML0220, Задание 4] Фамилия Имя. \n",
    "\n",
    "\n",
    "Используйте данный Ipython Notebook при оформлении домашнего задания."
   ]
  },
  {
   "cell_type": "markdown",
   "metadata": {},
   "source": [
    "##  Считаем производные для функций потерь (1 балл)"
   ]
  },
  {
   "cell_type": "markdown",
   "metadata": {},
   "source": [
    "Мы будем реализовать градиентный бустинг для 3 функций потерь:\n",
    "\n",
    "1) MSE  $L(a(x_i), y_i) = (y_i - a(x_i)) ^ 2$\n",
    "\n",
    "2) Экспоненциальная  $L(a(x_i), y_i) = exp( -a(x_i) y_i), y_i \\in \\{-1, 1\\}$\n",
    "\n",
    "3) Логистическая  $L(a(x_i), y_i) = \\log (1 + exp( -a(x_i) y_i)), y_i \\in \\{-1, 1\\}$\n",
    "\n",
    "где $a(x_i)$ предсказание бустинга на итом объекте. \n",
    "\n",
    "Для каждой функции потерь напишите таргет, на который будет настраиваться каждое дерево в бустинге. "
   ]
  },
  {
   "cell_type": "markdown",
   "metadata": {},
   "source": [
    "Для убывания нужен антиградиент, поэтому возьмем градиенты со знаком минус\n",
    "\n",
    "1. $ \\triangledown Q_i = \\triangledown L = 2(y_i - a(x_i))$\n",
    "\n",
    "\n",
    "2. $ \\triangledown Q_i = \\triangledown L = y_i * exp(-a(x_i)y_i) $\n",
    "\n",
    "\n",
    "3. $ \\triangledown Q_i = \\triangledown L = \\frac{y_i}{1 + exp(-a(x_i)y_i)} * exp(-a(x_i)y_i) $\n",
    "\n"
   ]
  },
  {
   "cell_type": "markdown",
   "metadata": {},
   "source": [
    "##  Реализуем градиентный бустинг (3 балла)"
   ]
  },
  {
   "cell_type": "markdown",
   "metadata": {},
   "source": [
    "Реализуйте класс градиентного бустинга для классификации. Ваша реализация бустинга должна работать по точности не более чем на 5 процентов хуже чем GradientBoostingClassifier из sklearn. \n"
   ]
  },
  {
   "cell_type": "markdown",
   "metadata": {},
   "source": [
    "Детали реализации:\n",
    "\n",
    "-- должно поддерживаться 3 функции потерь\n",
    "\n",
    "-- сами базовые алгоритмы(деревья, линейные модели и тп) реализовать не надо, просто возьмите готовые из sklearn\n",
    "\n",
    "-- в качестве функции потерь для построения одного дерева используйте MSE\n",
    "\n",
    "-- шаг в бустинге можно не подбирать, можно брать константный\n",
    "\n",
    "-- можно брать разные модели в качестве инициализации бустинга\n",
    "\n",
    "-- должны поддерживаться следующие параметры:\n",
    "\n",
    "а) число итераций\n",
    "б) размер шага\n",
    "в) процент случайных фичей при построении одного дерева\n",
    "д) процент случайных объектов при построении одного дерева\n",
    "е) параметры базового алгоритма (передавайте через **kwargs)"
   ]
  },
  {
   "cell_type": "code",
   "execution_count": 1,
   "metadata": {},
   "outputs": [],
   "source": [
    "import numpy as np\n",
    "\n",
    "from sklearn.datasets import load_wine\n",
    "from sklearn.ensemble import GradientBoostingClassifier\n",
    "from sklearn.metrics import accuracy_score, f1_score, precision_score\n",
    "from sklearn.model_selection import train_test_split\n",
    "from sklearn.tree import DecisionTreeRegressor"
   ]
  },
  {
   "cell_type": "code",
   "execution_count": 4,
   "metadata": {},
   "outputs": [],
   "source": [
    "class MyGradientBoostingClassifier:\n",
    "\n",
    "    def __init__(self, loss, learning_rate, n_estimators, colsample=1.0, subsample=1.0, *args, **kwargs):\n",
    "        \"\"\"\n",
    "        loss -- один из 3 лоссов: 'mse', 'exp', 'log'\n",
    "        learning_rate -- шаг бустинга\n",
    "        n_estimators -- число итераций\n",
    "        colsample -- процент рандомных признаков при обучнеии одного алгоритма\n",
    "        subsample -- процент рандомных объектов при обучнеии одного алгоритма\n",
    "        args, kwargs -- параметры  базовых моделей\n",
    "        \"\"\"\n",
    "        \n",
    "        self.losses = {\n",
    "            'mse' : self.mse_grad,\n",
    "            'exp' : self.exp_grad,\n",
    "            'log' : self.log_grad,\n",
    "        }\n",
    "        self.loss = self.losses[loss]\n",
    "        \n",
    "        self.learning_rate = learning_rate\n",
    "        self.n_estimators = n_estimators\n",
    "        self.estimators = []\n",
    "        self.colsample = colsample\n",
    "        self.subsample = subsample\n",
    "        self.args = args\n",
    "        self.kwargs = kwargs\n",
    "    \n",
    "    def fit(self, X, y, base_model=DecisionTreeRegressor, init_model=None):\n",
    "        \"\"\"\n",
    "        X -- объекты для обучения:\n",
    "        y -- таргеты для обучения\n",
    "        base_model -- класс базовых моделей, например sklearn.tree.DecisionTreeRegressor\n",
    "        init_model -- класс для первой модели, если None то берем константу (только для посл задания)\n",
    "        \"\"\"\n",
    "        \n",
    "        class pass_model:\n",
    "            def __init__(self):\n",
    "                pass\n",
    "            def fit(self, X, y):\n",
    "                self.y = y\n",
    "            def predict(self, X):\n",
    "                return [np.mean(y)] * X.shape[0]\n",
    "        \n",
    "        if init_model is None:\n",
    "            self.estimators = [pass_model()]\n",
    "        else:\n",
    "            self.estimators = [init_model]\n",
    "            \n",
    "        self.n_classes = np.max(y)\n",
    "        \n",
    "        self.estimators[0].fit(X, y)\n",
    "        y_pred = np.array(self.estimators[0].predict(X), dtype=float)\n",
    "        \n",
    "        for i in range(self.n_estimators):\n",
    "            \n",
    "            sub_ind = np.random.choice(np.arange(X.shape[0]), int(self.subsample * X.shape[0]), replace=False)\n",
    "            col_ind = np.random.choice(np.arange(X.shape[1]), int(self.colsample * X.shape[1]), replace=False)\n",
    "            X_sampled = X[sub_ind]\n",
    "            y_pred_sampled = y_pred[sub_ind]\n",
    "            y_sampled = y[sub_ind]\n",
    "            \n",
    "            gq = self.loss(y_sampled, y_pred_sampled)\n",
    "            \n",
    "            model = base_model(max_features=self.colsample, *self.args, **self.kwargs)\n",
    "            model.fit(X_sampled, gq)\n",
    "            self.estimators.append(model)\n",
    "            \n",
    "            y_pred += self.learning_rate * model.predict(X)\n",
    "        \n",
    "    def predict(self, X):\n",
    "        y_pred = np.asarray(self.estimators[0].predict(X), dtype=np.float64)\n",
    "        for model in self.estimators[1:]:\n",
    "            y_pred += model.predict(X) * self.learning_rate\n",
    "            \n",
    "        return np.clip(np.around(y_pred).astype(np.int16), 0, self.n_classes)\n",
    "    \n",
    "       \n",
    "    def predict_proba(self, X):\n",
    "        y_pred = self.estimators[0].predict(X)\n",
    "        for model in self.estimators[1:]:\n",
    "            y_pred += model.predict(X) * self.learning_rate\n",
    "            \n",
    "        return y_pred\n",
    "\n",
    "    @staticmethod\n",
    "    def mse_grad(yi, ai):\n",
    "        return 2 * (yi - ai)\n",
    "    \n",
    "    \n",
    "    @staticmethod\n",
    "    def exp_grad(yi, ai):\n",
    "        return yi * np.exp(-ai * yi)\n",
    "    \n",
    "    \n",
    "    @staticmethod\n",
    "    def log_grad(yi, ai):\n",
    "        return yi * np.exp(-ai * yi) / (1 + np.exp(-ai * yi))"
   ]
  },
  {
   "cell_type": "code",
   "execution_count": 27,
   "metadata": {},
   "outputs": [],
   "source": [
    "my_clf = MyGradientBoostingClassifier('mse', learning_rate=0.2, n_estimators=10, subsample=0.2,\n",
    "                                      max_depth=3, colsample=0.5)\n",
    "clf = GradientBoostingClassifier(learning_rate=0.1, n_estimators=10, subsample=0.7, max_features=0.8)"
   ]
  },
  {
   "cell_type": "code",
   "execution_count": 28,
   "metadata": {},
   "outputs": [],
   "source": [
    "wine = load_wine()\n",
    "X_train, X_test, y_train, y_test = train_test_split(wine.data, wine.target, test_size=0.1, stratify=wine.target)"
   ]
  },
  {
   "cell_type": "code",
   "execution_count": 29,
   "metadata": {},
   "outputs": [
    {
     "name": "stdout",
     "output_type": "stream",
     "text": [
      "0.9444444444444444\n",
      "1.0\n"
     ]
    }
   ],
   "source": [
    "my_clf.fit(X_train, y_train, DecisionTreeRegressor)\n",
    "clf.fit(X_train, y_train)\n",
    "print(accuracy_score(y_pred=clf.predict(X_test), y_true=y_test))\n",
    "print(accuracy_score(y_pred=my_clf.predict(X_test), y_true=y_test))"
   ]
  },
  {
   "cell_type": "code",
   "execution_count": 30,
   "metadata": {},
   "outputs": [
    {
     "name": "stdout",
     "output_type": "stream",
     "text": [
      "[0 0 1 1 2 1 0 2 0 2 1 1 1 1 2 1 0 2]\n",
      "[0 0 1 1 2 0 0 2 0 2 1 1 1 1 2 1 0 2]\n",
      "[0.07473641 0.40679788 1.03649122 0.83411389 1.87086698 0.2774693\n",
      " 0.07473641 2.15973337 0.14026351 2.36825898 1.00401116 1.27646169\n",
      " 1.2666333  0.89128551 1.58277012 1.11233214 0.12187037 2.31348757]\n"
     ]
    }
   ],
   "source": [
    "print(clf.predict(X_test))\n",
    "print(my_clf.predict(X_test))\n",
    "print(my_clf.predict_proba(X_test))"
   ]
  },
  {
   "cell_type": "markdown",
   "metadata": {},
   "source": [
    "## Подбираем параметры (2 балла)\n",
    "\n",
    "Давайте попробуем применить Ваш бустинг для предсказаний цены домов в Калифорнии. Чтобы можно было попробовтаь разные функции потерь, переведем по порогу таргет в 2 класса: дорогие и дешевые дома."
   ]
  },
  {
   "cell_type": "markdown",
   "metadata": {},
   "source": [
    "В задании нужно\n",
    "\n",
    "1) Построить график точности в зависимости от числа итераций на валидации.\n",
    "\n",
    "2) Подобрать оптимальные параметры Вашего бустинга на валидации. \n"
   ]
  },
  {
   "cell_type": "code",
   "execution_count": 31,
   "metadata": {},
   "outputs": [],
   "source": [
    "import ssl\n",
    "ssl._create_default_https_context = ssl._create_stdlib_context"
   ]
  },
  {
   "cell_type": "code",
   "execution_count": 32,
   "metadata": {},
   "outputs": [],
   "source": [
    "from sklearn.datasets import fetch_california_housing\n",
    "X, y = fetch_california_housing(return_X_y=True)"
   ]
  },
  {
   "cell_type": "code",
   "execution_count": 33,
   "metadata": {},
   "outputs": [
    {
     "name": "stdout",
     "output_type": "stream",
     "text": [
      "(20640, 8) (20640,)\n"
     ]
    }
   ],
   "source": [
    "# Превращаем регрессию в классификацию\n",
    "y = (y > 2.0).astype(int)\n",
    "print(X.shape, y.shape)"
   ]
  },
  {
   "cell_type": "markdown",
   "metadata": {},
   "source": [
    "### Точность от числа итераций:"
   ]
  },
  {
   "cell_type": "code",
   "execution_count": 34,
   "metadata": {},
   "outputs": [],
   "source": [
    "import matplotlib.pyplot as plt\n",
    "from sklearn.model_selection import KFold\n",
    "from sklearn.metrics import make_scorer\n",
    "from tqdm import tqdm"
   ]
  },
  {
   "cell_type": "code",
   "execution_count": 35,
   "metadata": {},
   "outputs": [
    {
     "name": "stderr",
     "output_type": "stream",
     "text": [
      "100%|██████████| 20/20 [01:22<00:00,  4.13s/it]\n"
     ]
    },
    {
     "data": {
      "text/plain": [
       "<matplotlib.legend.Legend at 0x7f95440d4700>"
      ]
     },
     "execution_count": 35,
     "metadata": {},
     "output_type": "execute_result"
    },
    {
     "data": {
      "image/png": "[encoded data removed]",
      "text/plain": [
       "<Figure size 1080x504 with 1 Axes>"
      ]
     },
     "metadata": {
      "needs_background": "light"
     },
     "output_type": "display_data"
    }
   ],
   "source": [
    "plt.figure(figsize=(15,7))\n",
    "plt.xlabel('число итераций')\n",
    "plt.ylabel('точность')\n",
    "plt.title('Точность от числа итераций')\n",
    "\n",
    "n_iters = np.arange(1, 100, 5)\n",
    "acc = []\n",
    "prec = []\n",
    "f1 = []\n",
    "\n",
    "kf = KFold(n_splits=5)\n",
    "\n",
    "for n_iter in tqdm(n_iters):\n",
    "    t_acc, t_prec, t_f1 = [], [], []\n",
    "    \n",
    "    for train_index, test_index in kf.split(X, y):\n",
    "        X_train, y_train = X[train_index], y[train_index]\n",
    "        X_val, y_val = X[test_index], y[test_index]\n",
    "        \n",
    "        my_clf = MyGradientBoostingClassifier('mse', learning_rate=0.2, n_estimators=n_iter, subsample=0.6,\n",
    "                                          max_depth=3, colsample=0.7)\n",
    "        my_clf.fit(X_train, y_train)\n",
    "        y_pred = my_clf.predict(X_val)\n",
    "        \n",
    "        t_acc.append( accuracy_score(y_pred, y_val) )\n",
    "        t_prec.append( precision_score(y_pred, y_val) )\n",
    "        t_f1.append( f1_score(y_pred, y_val) )\n",
    "    \n",
    "    acc.append(np.mean(t_acc))\n",
    "    prec.append(np.mean(t_prec))\n",
    "    f1.append(np.mean(t_f1))\n",
    "\n",
    "plt.plot(n_iters, acc, label='acc')\n",
    "plt.plot(n_iters, prec, label='prec')\n",
    "plt.plot(n_iters, f1, label='f1')\n",
    "\n",
    "plt.legend()"
   ]
  },
  {
   "cell_type": "code",
   "execution_count": 37,
   "metadata": {},
   "outputs": [
    {
     "name": "stderr",
     "output_type": "stream",
     "text": [
      "100%|██████████| 3/3 [00:05<00:00,  1.90s/it]"
     ]
    },
    {
     "name": "stdout",
     "output_type": "stream",
     "text": [
      "['mse', 'exp', 'log']\n",
      "[0.820203488372093, 0.42306201550387595, 0.4457848837209301]\n",
      "[0.7508559191723813, 0.9999077490774908, 0.9981798779823328]\n",
      "[0.7695836800904688, 0.5870520567248122, 0.5976618699298317]\n"
     ]
    },
    {
     "name": "stderr",
     "output_type": "stream",
     "text": [
      "\n"
     ]
    },
    {
     "data": {
      "text/plain": [
       "<matplotlib.legend.Legend at 0x7f95440d4b80>"
      ]
     },
     "execution_count": 37,
     "metadata": {},
     "output_type": "execute_result"
    },
    {
     "data": {
      "image/png": "[encoded data removed]",
      "text/plain": [
       "<Figure size 1080x216 with 1 Axes>"
      ]
     },
     "metadata": {
      "needs_background": "light"
     },
     "output_type": "display_data"
    }
   ],
   "source": [
    "plt.figure(figsize=(15,3))\n",
    "plt.xlabel('')\n",
    "plt.ylabel('точность')\n",
    "plt.title('Точность от subsample')\n",
    "\n",
    "losses = ['mse', 'exp', 'log']\n",
    "acc = []\n",
    "prec = []\n",
    "f1 = []\n",
    "\n",
    "kf = KFold(n_splits=5)\n",
    "\n",
    "for loss in tqdm(losses):\n",
    "    t_acc, t_prec, t_f1 = [], [], []\n",
    "    \n",
    "    for train_index, test_index in kf.split(X, y):\n",
    "        X_train, y_train = X[train_index], y[train_index]\n",
    "        X_val, y_val = X[test_index], y[test_index]\n",
    "        \n",
    "        my_clf = MyGradientBoostingClassifier(loss, learning_rate=0.15, n_estimators=20, subsample=0.6,\n",
    "                                          max_depth=3, colsample=0.7)\n",
    "        my_clf.fit(X_train, y_train)\n",
    "        y_pred = my_clf.predict(X_val)\n",
    "        \n",
    "        t_acc.append( accuracy_score(y_pred, y_val) )\n",
    "        t_prec.append( precision_score(y_pred, y_val) )\n",
    "        t_f1.append( f1_score(y_pred, y_val) )\n",
    "    \n",
    "    acc.append(np.mean(t_acc))\n",
    "    prec.append(np.mean(t_prec))\n",
    "    f1.append(np.mean(t_f1))\n",
    "    \n",
    "print(losses)\n",
    "print(acc)\n",
    "print(prec)\n",
    "print(f1)\n",
    "\n",
    "arg = ['mse', 'exp', 'log']\n",
    "\n",
    "plt.scatter(arg, acc, label='acc')\n",
    "plt.scatter(arg, prec, label='prec')\n",
    "plt.scatter(arg, f1, label='f1')\n",
    "\n",
    "plt.legend()"
   ]
  },
  {
   "cell_type": "markdown",
   "metadata": {},
   "source": [
    "Выбираем mse."
   ]
  },
  {
   "cell_type": "markdown",
   "metadata": {},
   "source": [
    "### Подбираем learning rate"
   ]
  },
  {
   "cell_type": "code",
   "execution_count": 38,
   "metadata": {},
   "outputs": [
    {
     "name": "stderr",
     "output_type": "stream",
     "text": [
      "100%|██████████| 12/12 [00:21<00:00,  1.82s/it]"
     ]
    },
    {
     "name": "stdout",
     "output_type": "stream",
     "text": [
      "0.3 0.8304748062015503\n",
      "0.2 0.7690026826505463\n",
      "0.3 0.7837902254576001\n"
     ]
    },
    {
     "name": "stderr",
     "output_type": "stream",
     "text": [
      "\n"
     ]
    },
    {
     "data": {
      "text/plain": [
       "<matplotlib.legend.Legend at 0x7f95409a0b80>"
      ]
     },
     "execution_count": 38,
     "metadata": {},
     "output_type": "execute_result"
    },
    {
     "data": {
      "image/png": "[encoded data removed]",
      "text/plain": [
       "<Figure size 1080x504 with 1 Axes>"
      ]
     },
     "metadata": {
      "needs_background": "light"
     },
     "output_type": "display_data"
    }
   ],
   "source": [
    "plt.figure(figsize=(15,7))\n",
    "plt.xlabel('learning_rate')\n",
    "plt.ylabel('точность')\n",
    "plt.title('Точность от learning_rate')\n",
    "\n",
    "lrs = [0.0001, 0.001, 0.005, 0.01, 0.02, 0.05, 0.1, 0.15, 0.2, 0.3, 0.5, 1]\n",
    "acc = []\n",
    "prec = []\n",
    "f1 = []\n",
    "\n",
    "kf = KFold(n_splits=5)\n",
    "\n",
    "for lr in tqdm(lrs):\n",
    "    t_acc, t_prec, t_f1 = [], [], []\n",
    "    \n",
    "    for train_index, test_index in kf.split(X, y):\n",
    "        X_train, y_train = X[train_index], y[train_index]\n",
    "        X_val, y_val = X[test_index], y[test_index]\n",
    "        \n",
    "        my_clf = MyGradientBoostingClassifier('mse', learning_rate=lr, n_estimators=20, subsample=0.6,\n",
    "                                          max_depth=3, colsample=0.7)\n",
    "        my_clf.fit(X_train, y_train)\n",
    "        y_pred = my_clf.predict(X_val)\n",
    "        \n",
    "        t_acc.append( accuracy_score(y_pred, y_val) )\n",
    "        t_prec.append( precision_score(y_pred, y_val) )\n",
    "        t_f1.append( f1_score(y_pred, y_val) )\n",
    "    \n",
    "    acc.append(np.mean(t_acc))\n",
    "    prec.append(np.mean(t_prec))\n",
    "    f1.append(np.mean(t_f1))\n",
    "\n",
    "plt.plot(lrs, acc, label='acc')\n",
    "plt.plot(lrs, prec, label='prec')\n",
    "plt.plot(lrs, f1, label='f1')\n",
    "\n",
    "print(lrs[np.argmax(acc)], np.max(acc))\n",
    "print(lrs[np.argmax(prec)], np.max(prec))\n",
    "print(lrs[np.argmax(f1)], np.max(f1))\n",
    "\n",
    "plt.legend()"
   ]
  },
  {
   "cell_type": "markdown",
   "metadata": {},
   "source": [
    "### Подбираем subsample"
   ]
  },
  {
   "cell_type": "code",
   "execution_count": 39,
   "metadata": {},
   "outputs": [
    {
     "name": "stderr",
     "output_type": "stream",
     "text": [
      "100%|██████████| 10/10 [00:15<00:00,  1.59s/it]"
     ]
    },
    {
     "name": "stdout",
     "output_type": "stream",
     "text": [
      "0.1 0.8326550387596899\n",
      "0.1 0.7650468142562994\n",
      "0.1 0.7865256747854843\n"
     ]
    },
    {
     "name": "stderr",
     "output_type": "stream",
     "text": [
      "\n"
     ]
    },
    {
     "data": {
      "text/plain": [
       "<matplotlib.legend.Legend at 0x7f9544456220>"
      ]
     },
     "execution_count": 39,
     "metadata": {},
     "output_type": "execute_result"
    },
    {
     "data": {
      "image/png": "[encoded data removed]",
      "text/plain": [
       "<Figure size 1080x504 with 1 Axes>"
      ]
     },
     "metadata": {
      "needs_background": "light"
     },
     "output_type": "display_data"
    }
   ],
   "source": [
    "plt.figure(figsize=(15,7))\n",
    "plt.xlabel('subsample')\n",
    "plt.ylabel('точность')\n",
    "plt.title('Точность от subsample')\n",
    "\n",
    "sss = np.linspace(0.1, 1, 10)\n",
    "acc = []\n",
    "prec = []\n",
    "f1 = []\n",
    "\n",
    "kf = KFold(n_splits=5)\n",
    "\n",
    "for ss in tqdm(sss):\n",
    "    t_acc, t_prec, t_f1 = [], [], []\n",
    "    \n",
    "    for train_index, test_index in kf.split(X, y):\n",
    "        X_train, y_train = X[train_index], y[train_index]\n",
    "        X_val, y_val = X[test_index], y[test_index]\n",
    "        \n",
    "        my_clf = MyGradientBoostingClassifier('mse', learning_rate=0.15, n_estimators=20, subsample=ss,\n",
    "                                          max_depth=3, colsample=0.7)\n",
    "        my_clf.fit(X_train, y_train)\n",
    "        y_pred = my_clf.predict(X_val)\n",
    "        \n",
    "        t_acc.append( accuracy_score(y_pred, y_val) )\n",
    "        t_prec.append( precision_score(y_pred, y_val) )\n",
    "        t_f1.append( f1_score(y_pred, y_val) )\n",
    "    \n",
    "    acc.append(np.mean(t_acc))\n",
    "    prec.append(np.mean(t_prec))\n",
    "    f1.append(np.mean(t_f1))\n",
    "\n",
    "plt.plot(sss, acc, label='acc')\n",
    "plt.plot(sss, prec, label='prec')\n",
    "plt.plot(sss, f1, label='f1')\n",
    "\n",
    "print(sss[np.argmax(acc)], np.max(acc))\n",
    "print(sss[np.argmax(prec)], np.max(prec))\n",
    "print(sss[np.argmax(f1)], np.max(f1))\n",
    "\n",
    "plt.legend()"
   ]
  },
  {
   "cell_type": "markdown",
   "metadata": {},
   "source": [
    "### Подбираем colsample"
   ]
  },
  {
   "cell_type": "code",
   "execution_count": 40,
   "metadata": {},
   "outputs": [
    {
     "name": "stderr",
     "output_type": "stream",
     "text": [
      "100%|██████████| 10/10 [00:10<00:00,  1.05s/it]"
     ]
    },
    {
     "name": "stdout",
     "output_type": "stream",
     "text": [
      "0.6 0.828391472868217\n",
      "0.6 0.7643081622710007\n",
      "0.6 0.7819416628201867\n"
     ]
    },
    {
     "name": "stderr",
     "output_type": "stream",
     "text": [
      "\n"
     ]
    },
    {
     "data": {
      "text/plain": [
       "<matplotlib.legend.Legend at 0x7f954423c9a0>"
      ]
     },
     "execution_count": 40,
     "metadata": {},
     "output_type": "execute_result"
    },
    {
     "data": {
      "image/png": "[encoded data removed]",
      "text/plain": [
       "<Figure size 1080x504 with 1 Axes>"
      ]
     },
     "metadata": {
      "needs_background": "light"
     },
     "output_type": "display_data"
    }
   ],
   "source": [
    "plt.figure(figsize=(15,7))\n",
    "plt.xlabel('colsample')\n",
    "plt.ylabel('точность')\n",
    "plt.title('Точность от colsample')\n",
    "\n",
    "css = np.linspace(0.1, 1, 10)\n",
    "acc = []\n",
    "prec = []\n",
    "f1 = []\n",
    "\n",
    "kf = KFold(n_splits=5)\n",
    "\n",
    "for cs in tqdm(css):\n",
    "    t_acc, t_prec, t_f1 = [], [], []\n",
    "    \n",
    "    for train_index, test_index in kf.split(X, y):\n",
    "        X_train, y_train = X[train_index], y[train_index]\n",
    "        X_val, y_val = X[test_index], y[test_index]\n",
    "        \n",
    "        my_clf = MyGradientBoostingClassifier('mse', learning_rate=0.15, n_estimators=20, subsample=0.4,\n",
    "                                          colsample=cs, max_depth=3)\n",
    "        my_clf.fit(X_train, y_train)\n",
    "        y_pred = my_clf.predict(X_val)\n",
    "        \n",
    "        t_acc.append( accuracy_score(y_pred, y_val) )\n",
    "        t_prec.append( precision_score(y_pred, y_val) )\n",
    "        t_f1.append( f1_score(y_pred, y_val) )\n",
    "    \n",
    "    acc.append(np.mean(t_acc))\n",
    "    prec.append(np.mean(t_prec))\n",
    "    f1.append(np.mean(t_f1))\n",
    "\n",
    "plt.plot(css, acc, label='acc')\n",
    "plt.plot(css, prec, label='prec')\n",
    "plt.plot(css, f1, label='f1')\n",
    "\n",
    "print(css[np.argmax(acc)], np.max(acc))\n",
    "print(css[np.argmax(prec)], np.max(prec))\n",
    "print(css[np.argmax(f1)], np.max(f1))\n",
    "\n",
    "plt.legend()"
   ]
  },
  {
   "cell_type": "markdown",
   "metadata": {},
   "source": [
    "### Подбираем max_depth для деревьев"
   ]
  },
  {
   "cell_type": "code",
   "execution_count": 41,
   "metadata": {},
   "outputs": [
    {
     "name": "stderr",
     "output_type": "stream",
     "text": [
      "100%|██████████| 14/14 [00:29<00:00,  2.11s/it]"
     ]
    },
    {
     "name": "stdout",
     "output_type": "stream",
     "text": [
      "3 0.83125\n",
      "13 0.7726516105495951\n",
      "3 0.7824120445052415\n"
     ]
    },
    {
     "name": "stderr",
     "output_type": "stream",
     "text": [
      "\n"
     ]
    },
    {
     "data": {
      "text/plain": [
       "<matplotlib.legend.Legend at 0x7f9544132d90>"
      ]
     },
     "execution_count": 41,
     "metadata": {},
     "output_type": "execute_result"
    },
    {
     "data": {
      "image/png": "[encoded data removed]",
      "text/plain": [
       "<Figure size 1080x504 with 1 Axes>"
      ]
     },
     "metadata": {
      "needs_background": "light"
     },
     "output_type": "display_data"
    }
   ],
   "source": [
    "plt.figure(figsize=(15,7))\n",
    "plt.xlabel('max_depth')\n",
    "plt.ylabel('точность')\n",
    "plt.title('Точность от max_depth')\n",
    "\n",
    "mds = np.arange(1, 15)\n",
    "acc = []\n",
    "prec = []\n",
    "f1 = []\n",
    "\n",
    "kf = KFold(n_splits=5)\n",
    "\n",
    "for md in tqdm(mds):\n",
    "    t_acc, t_prec, t_f1 = [], [], []\n",
    "    \n",
    "    for train_index, test_index in kf.split(X, y):\n",
    "        X_train, y_train = X[train_index], y[train_index]\n",
    "        X_val, y_val = X[test_index], y[test_index]\n",
    "        \n",
    "        my_clf = MyGradientBoostingClassifier('mse', learning_rate=0.15, n_estimators=20, subsample=0.4,\n",
    "                                          colsample=0.6, max_depth=md)\n",
    "        my_clf.fit(X_train, y_train)\n",
    "        y_pred = my_clf.predict(X_val)\n",
    "        \n",
    "        t_acc.append( accuracy_score(y_pred, y_val) )\n",
    "        t_prec.append( precision_score(y_pred, y_val) )\n",
    "        t_f1.append( f1_score(y_pred, y_val) )\n",
    "    \n",
    "    acc.append(np.mean(t_acc))\n",
    "    prec.append(np.mean(t_prec))\n",
    "    f1.append(np.mean(t_f1))\n",
    "\n",
    "plt.plot(mds, acc, label='acc')\n",
    "plt.plot(mds, prec, label='prec')\n",
    "plt.plot(mds, f1, label='f1')\n",
    "\n",
    "print(mds[np.argmax(acc)], np.max(acc))\n",
    "print(mds[np.argmax(prec)], np.max(prec))\n",
    "print(mds[np.argmax(f1)], np.max(f1))\n",
    "\n",
    "plt.legend()"
   ]
  },
  {
   "cell_type": "markdown",
   "metadata": {},
   "source": [
    "## BooBag BagBoo (1 балл)\n",
    "\n"
   ]
  },
  {
   "cell_type": "markdown",
   "metadata": {},
   "source": [
    "Попробуем объединить бустинг и бэгинг. Давайте\n",
    "\n",
    "1) в качестве базовой модели брать не дерево решений, а случайный лес (из sklearn)\n",
    "\n",
    "2) обучать N бустингов на бустрапированной выборке, а затем предикт усреднять"
   ]
  },
  {
   "cell_type": "markdown",
   "metadata": {},
   "source": [
    "Попробуйте обе этих стратегии на данных из прошлого задания. Получилось ли улучшить качество? Почему?"
   ]
  },
  {
   "cell_type": "code",
   "execution_count": 42,
   "metadata": {},
   "outputs": [],
   "source": [
    "from sklearn.ensemble import RandomForestRegressor"
   ]
  },
  {
   "cell_type": "markdown",
   "metadata": {},
   "source": [
    "### Boo"
   ]
  },
  {
   "cell_type": "code",
   "execution_count": 57,
   "metadata": {},
   "outputs": [
    {
     "name": "stderr",
     "output_type": "stream",
     "text": [
      "5it [00:01,  4.33it/s]"
     ]
    },
    {
     "name": "stdout",
     "output_type": "stream",
     "text": [
      "accuracy: 0.8189922480620154\n",
      "precision: 0.7215482750235178\n",
      "f1: 0.7561376549653096\n"
     ]
    },
    {
     "name": "stderr",
     "output_type": "stream",
     "text": [
      "\n"
     ]
    }
   ],
   "source": [
    "acc = []\n",
    "prec = []\n",
    "f1 = []\n",
    "\n",
    "for train_index, test_index in tqdm(kf.split(X, y)):\n",
    "    X_train, y_train = X[train_index], y[train_index]\n",
    "    X_val, y_val = X[test_index], y[test_index]\n",
    "\n",
    "    my_clf = MyGradientBoostingClassifier('mse', learning_rate=0.15, n_estimators=20, subsample=0.4,\n",
    "                                      colsample=0.6, max_depth=3)\n",
    "    my_clf.fit(X_train, y_train, DecisionTreeRegressor)\n",
    "    y_pred = my_clf.predict(X_val)\n",
    "\n",
    "    acc.append( accuracy_score(y_pred, y_val) )\n",
    "    prec.append( precision_score(y_pred, y_val) )\n",
    "    f1.append( f1_score(y_pred, y_val) )\n",
    "\n",
    "print('accuracy:', np.mean(acc))\n",
    "print('precision:', np.mean(prec))\n",
    "print('f1:', np.mean(f1))"
   ]
  },
  {
   "cell_type": "markdown",
   "metadata": {},
   "source": [
    "### BooBag"
   ]
  },
  {
   "cell_type": "code",
   "execution_count": 58,
   "metadata": {},
   "outputs": [
    {
     "name": "stderr",
     "output_type": "stream",
     "text": [
      "5it [01:15, 15.16s/it]"
     ]
    },
    {
     "name": "stdout",
     "output_type": "stream",
     "text": [
      "accuracy: 0.8310562015503876\n",
      "precision: 0.7523578166173911\n",
      "f1: 0.7806357976814168\n"
     ]
    },
    {
     "name": "stderr",
     "output_type": "stream",
     "text": [
      "\n"
     ]
    }
   ],
   "source": [
    "acc = []\n",
    "prec = []\n",
    "f1 = []\n",
    "\n",
    "for train_index, test_index in tqdm(kf.split(X, y)):\n",
    "    X_train, y_train = X[train_index], y[train_index]\n",
    "    X_val, y_val = X[test_index], y[test_index]\n",
    "\n",
    "    my_clf = MyGradientBoostingClassifier('mse', learning_rate=0.15, n_estimators=20, subsample=0.4,\n",
    "                                      colsample=0.6, max_depth=3)\n",
    "    my_clf.fit(X_train, y_train, RandomForestRegressor)\n",
    "    y_pred = my_clf.predict(X_val)\n",
    "\n",
    "    acc.append( accuracy_score(y_pred, y_val) )\n",
    "    prec.append( precision_score(y_pred, y_val) )\n",
    "    f1.append( f1_score(y_pred, y_val) )\n",
    "\n",
    "print('accuracy:', np.mean(acc))\n",
    "print('precision:', np.mean(prec))\n",
    "print('f1:', np.mean(f1))"
   ]
  },
  {
   "cell_type": "markdown",
   "metadata": {},
   "source": [
    "### BagBoo"
   ]
  },
  {
   "cell_type": "code",
   "execution_count": 45,
   "metadata": {},
   "outputs": [
    {
     "name": "stderr",
     "output_type": "stream",
     "text": [
      "5it [00:06,  1.31s/it]"
     ]
    },
    {
     "name": "stdout",
     "output_type": "stream",
     "text": [
      "accuracy: 0.8311531007751938\n",
      "precision: 0.7368536284155229\n",
      "f1: 0.7773556759936053\n"
     ]
    },
    {
     "name": "stderr",
     "output_type": "stream",
     "text": [
      "\n"
     ]
    }
   ],
   "source": [
    "acc = []\n",
    "prec = []\n",
    "f1 = []\n",
    "\n",
    "for train_index, test_index in tqdm(kf.split(X, y)):\n",
    "    X_train, y_train = X[train_index], y[train_index]\n",
    "    X_val, y_val = X[test_index], y[test_index]\n",
    "\n",
    "    predictions = []\n",
    "    for k in range(10):\n",
    "        sub_ind = np.random.choice(np.arange(X_train.shape[0]), int(0.6 * X_train.shape[0]), replace=False)\n",
    "\n",
    "        Xb = X_train[sub_ind]\n",
    "        yb = y_train[sub_ind]\n",
    "        \n",
    "        my_clf = MyGradientBoostingClassifier('mse', learning_rate=0.15, n_estimators=20, subsample=0.4,\n",
    "                                          colsample=0.6, max_depth=3)\n",
    "        my_clf.fit(Xb, yb)\n",
    "        y_pred = my_clf.predict(X_val)\n",
    "\n",
    "        predictions.append(y_pred)\n",
    "     \n",
    "    nz = np.count_nonzero(predictions, axis=0)\n",
    "    z = len(predictions) - nz\n",
    "    y_pred = np.where(z >= nz, 0, 1)\n",
    "    \n",
    "    acc.append( accuracy_score(y_pred, y_val) )\n",
    "    prec.append( precision_score(y_pred, y_val) )\n",
    "    f1.append( f1_score(y_pred, y_val) )\n",
    "\n",
    "print('accuracy:', np.mean(acc))\n",
    "print('precision:', np.mean(prec))\n",
    "print('f1:', np.mean(f1))"
   ]
  },
  {
   "cell_type": "markdown",
   "metadata": {},
   "source": [
    "Как можно увидеть, качество подросло. Это может происходить из-за грамотного комбинирования работы с bias и variance: бэггинг сохраняет bias, уменьшает variance; бустинг - уменьшает bias, оставляет или увеличивает variance, поэтому в совокупности эти подходы приводят к снижению обеих компонент, тем самым увеличивая точность."
   ]
  },
  {
   "cell_type": "markdown",
   "metadata": {
    "collapsed": true
   },
   "source": [
    "## Умная инициализация (1 балл)\n",
    "\n",
    "Попробуйте брать в качестве инициализации бустинга не константу, а какой-то алгоритм и уже от его предикта стартовать итерации бустинга. Попробуйте разные модели из sklearn: линейные модели, рандом форест, svm..\n",
    "\n",
    "Получилось ли улучшить качество? Почему?\n",
    "\n"
   ]
  },
  {
   "cell_type": "markdown",
   "metadata": {},
   "source": [
    "### Mean init"
   ]
  },
  {
   "cell_type": "code",
   "execution_count": 46,
   "metadata": {},
   "outputs": [
    {
     "name": "stderr",
     "output_type": "stream",
     "text": [
      "5it [00:01,  4.48it/s]"
     ]
    },
    {
     "name": "stdout",
     "output_type": "stream",
     "text": [
      "accuracy: 0.8214631782945737\n",
      "precision: 0.7474978322374068\n",
      "f1: 0.7700422970829068\n"
     ]
    },
    {
     "name": "stderr",
     "output_type": "stream",
     "text": [
      "\n"
     ]
    }
   ],
   "source": [
    "acc = []\n",
    "prec = []\n",
    "f1 = []\n",
    "\n",
    "for train_index, test_index in tqdm(kf.split(X, y)):\n",
    "    X_train, y_train = X[train_index], y[train_index]\n",
    "    X_val, y_val = X[test_index], y[test_index]\n",
    "\n",
    "    my_clf = MyGradientBoostingClassifier('mse', learning_rate=0.15, n_estimators=20, subsample=0.4,\n",
    "                                      colsample=0.6, max_depth=3)\n",
    "    my_clf.fit(X_train, y_train, DecisionTreeRegressor)\n",
    "    y_pred = my_clf.predict(X_val)\n",
    "\n",
    "    acc.append( accuracy_score(y_pred, y_val) )\n",
    "    prec.append( precision_score(y_pred, y_val) )\n",
    "    f1.append( f1_score(y_pred, y_val) )\n",
    "\n",
    "print('accuracy:', np.mean(acc))\n",
    "print('precision:', np.mean(prec))\n",
    "print('f1:', np.mean(f1))"
   ]
  },
  {
   "cell_type": "markdown",
   "metadata": {},
   "source": [
    "### Linear init"
   ]
  },
  {
   "cell_type": "code",
   "execution_count": 47,
   "metadata": {},
   "outputs": [],
   "source": [
    "from sklearn.linear_model import LinearRegression"
   ]
  },
  {
   "cell_type": "code",
   "execution_count": 48,
   "metadata": {},
   "outputs": [
    {
     "name": "stderr",
     "output_type": "stream",
     "text": [
      "5it [00:01,  4.08it/s]"
     ]
    },
    {
     "name": "stdout",
     "output_type": "stream",
     "text": [
      "accuracy: 0.8335271317829458\n",
      "precision: 0.809071480883012\n",
      "f1: 0.7949307670533331\n"
     ]
    },
    {
     "name": "stderr",
     "output_type": "stream",
     "text": [
      "\n"
     ]
    }
   ],
   "source": [
    "acc = []\n",
    "prec = []\n",
    "f1 = []\n",
    "\n",
    "for train_index, test_index in tqdm(kf.split(X, y)):\n",
    "    X_train, y_train = X[train_index], y[train_index]\n",
    "    X_val, y_val = X[test_index], y[test_index]\n",
    "\n",
    "    my_clf = MyGradientBoostingClassifier('mse', learning_rate=0.15, n_estimators=20, subsample=0.4,\n",
    "                                      colsample=0.6, max_depth=3)\n",
    "    my_clf.fit(X_train, y_train, DecisionTreeRegressor, LinearRegression())\n",
    "    y_pred = my_clf.predict(X_val)\n",
    "\n",
    "    acc.append( accuracy_score(y_pred, y_val) )\n",
    "    prec.append( precision_score(y_pred, y_val) )\n",
    "    f1.append( f1_score(y_pred, y_val) )\n",
    "\n",
    "print('accuracy:', np.mean(acc))\n",
    "print('precision:', np.mean(prec))\n",
    "print('f1:', np.mean(f1))"
   ]
  },
  {
   "cell_type": "markdown",
   "metadata": {},
   "source": [
    "### Random forest"
   ]
  },
  {
   "cell_type": "code",
   "execution_count": 49,
   "metadata": {},
   "outputs": [],
   "source": [
    "from sklearn.ensemble import RandomForestRegressor"
   ]
  },
  {
   "cell_type": "code",
   "execution_count": 50,
   "metadata": {},
   "outputs": [
    {
     "name": "stderr",
     "output_type": "stream",
     "text": [
      "5it [00:48,  9.71s/it]"
     ]
    },
    {
     "name": "stdout",
     "output_type": "stream",
     "text": [
      "accuracy: 0.8407945736434108\n",
      "precision: 0.7628865384538479\n",
      "f1: 0.7913497623394674\n"
     ]
    },
    {
     "name": "stderr",
     "output_type": "stream",
     "text": [
      "\n"
     ]
    }
   ],
   "source": [
    "acc = []\n",
    "prec = []\n",
    "f1 = []\n",
    "\n",
    "for train_index, test_index in tqdm(kf.split(X, y)):\n",
    "    X_train, y_train = X[train_index], y[train_index]\n",
    "    X_val, y_val = X[test_index], y[test_index]\n",
    "\n",
    "    my_clf = MyGradientBoostingClassifier('mse', learning_rate=0.15, n_estimators=20, subsample=0.4,\n",
    "                                      colsample=0.6, max_depth=3)\n",
    "    my_clf.fit(X_train, y_train, DecisionTreeRegressor, RandomForestRegressor())\n",
    "    y_pred = my_clf.predict(X_val)\n",
    "\n",
    "    acc.append( accuracy_score(y_pred, y_val) )\n",
    "    prec.append( precision_score(y_pred, y_val) )\n",
    "    f1.append( f1_score(y_pred, y_val) )\n",
    "\n",
    "print('accuracy:', np.mean(acc))\n",
    "print('precision:', np.mean(prec))\n",
    "print('f1:', np.mean(f1))"
   ]
  },
  {
   "cell_type": "markdown",
   "metadata": {
    "collapsed": true
   },
   "source": [
    "### SVM"
   ]
  },
  {
   "cell_type": "code",
   "execution_count": 51,
   "metadata": {},
   "outputs": [],
   "source": [
    "from sklearn.svm import SVC, SVR"
   ]
  },
  {
   "cell_type": "code",
   "execution_count": 52,
   "metadata": {},
   "outputs": [
    {
     "name": "stderr",
     "output_type": "stream",
     "text": [
      "5it [01:25, 17.19s/it]"
     ]
    },
    {
     "name": "stdout",
     "output_type": "stream",
     "text": [
      "accuracy: 0.8204457364341085\n",
      "precision: 0.747024870511647\n",
      "f1: 0.7694538435389957\n"
     ]
    },
    {
     "name": "stderr",
     "output_type": "stream",
     "text": [
      "\n"
     ]
    }
   ],
   "source": [
    "acc = []\n",
    "prec = []\n",
    "f1 = []\n",
    "\n",
    "for train_index, test_index in tqdm(kf.split(X, y)):\n",
    "    X_train, y_train = X[train_index], y[train_index]\n",
    "    X_val, y_val = X[test_index], y[test_index]\n",
    "\n",
    "    my_clf = MyGradientBoostingClassifier('mse', learning_rate=0.15, n_estimators=20, subsample=0.4,\n",
    "                                      colsample=0.6, max_depth=3)\n",
    "    my_clf.fit(X_train, y_train, DecisionTreeRegressor, SVC())\n",
    "    y_pred = my_clf.predict(X_val)\n",
    "\n",
    "    acc.append( accuracy_score(y_pred, y_val) )\n",
    "    prec.append( precision_score(y_pred, y_val) )\n",
    "    f1.append( f1_score(y_pred, y_val) )\n",
    "\n",
    "print('accuracy:', np.mean(acc))\n",
    "print('precision:', np.mean(prec))\n",
    "print('f1:', np.mean(f1))"
   ]
  },
  {
   "cell_type": "code",
   "execution_count": 53,
   "metadata": {},
   "outputs": [
    {
     "name": "stderr",
     "output_type": "stream",
     "text": [
      "5it [01:26, 17.26s/it]"
     ]
    },
    {
     "name": "stdout",
     "output_type": "stream",
     "text": [
      "accuracy: 0.8219476744186046\n",
      "precision: 0.7477640859707566\n",
      "f1: 0.7694946544994841\n"
     ]
    },
    {
     "name": "stderr",
     "output_type": "stream",
     "text": [
      "\n"
     ]
    }
   ],
   "source": [
    "acc = []\n",
    "prec = []\n",
    "f1 = []\n",
    "\n",
    "for train_index, test_index in tqdm(kf.split(X, y)):\n",
    "    X_train, y_train = X[train_index], y[train_index]\n",
    "    X_val, y_val = X[test_index], y[test_index]\n",
    "\n",
    "    my_clf = MyGradientBoostingClassifier('mse', learning_rate=0.15, n_estimators=20, subsample=0.4,\n",
    "                                      colsample=0.6, max_depth=3)\n",
    "    my_clf.fit(X_train, y_train, DecisionTreeRegressor, SVR())\n",
    "    y_pred = my_clf.predict(X_val)\n",
    "\n",
    "    acc.append( accuracy_score(y_pred, y_val) )\n",
    "    prec.append( precision_score(y_pred, y_val) )\n",
    "    f1.append( f1_score(y_pred, y_val) )\n",
    "\n",
    "print('accuracy:', np.mean(acc))\n",
    "print('precision:', np.mean(prec))\n",
    "print('f1:', np.mean(f1))"
   ]
  },
  {
   "cell_type": "markdown",
   "metadata": {},
   "source": [
    "### LightGBM"
   ]
  },
  {
   "cell_type": "code",
   "execution_count": 54,
   "metadata": {},
   "outputs": [],
   "source": [
    "from lightgbm import LGBMClassifier, LGBMRegressor"
   ]
  },
  {
   "cell_type": "code",
   "execution_count": 55,
   "metadata": {},
   "outputs": [
    {
     "name": "stderr",
     "output_type": "stream",
     "text": [
      "5it [00:02,  1.85it/s]"
     ]
    },
    {
     "name": "stdout",
     "output_type": "stream",
     "text": [
      "accuracy: 0.8481104651162792\n",
      "precision: 0.7915125377323655\n",
      "f1: 0.807857469160362\n"
     ]
    },
    {
     "name": "stderr",
     "output_type": "stream",
     "text": [
      "\n"
     ]
    }
   ],
   "source": [
    "acc = []\n",
    "prec = []\n",
    "f1 = []\n",
    "\n",
    "for train_index, test_index in tqdm(kf.split(X, y)):\n",
    "    X_train, y_train = X[train_index], y[train_index]\n",
    "    X_val, y_val = X[test_index], y[test_index]\n",
    "\n",
    "    my_clf = MyGradientBoostingClassifier('mse', learning_rate=0.15, n_estimators=20, subsample=0.4,\n",
    "                                      colsample=0.6, max_depth=3)\n",
    "    my_clf.fit(X_train, y_train, DecisionTreeRegressor, LGBMClassifier())\n",
    "    y_pred = my_clf.predict(X_val)\n",
    "\n",
    "    acc.append( accuracy_score(y_pred, y_val) )\n",
    "    prec.append( precision_score(y_pred, y_val) )\n",
    "    f1.append( f1_score(y_pred, y_val) )\n",
    "\n",
    "print('accuracy:', np.mean(acc))\n",
    "print('precision:', np.mean(prec))\n",
    "print('f1:', np.mean(f1))"
   ]
  },
  {
   "cell_type": "code",
   "execution_count": 56,
   "metadata": {},
   "outputs": [
    {
     "name": "stderr",
     "output_type": "stream",
     "text": [
      "5it [00:02,  1.97it/s]"
     ]
    },
    {
     "name": "stdout",
     "output_type": "stream",
     "text": [
      "accuracy: 0.8422480620155038\n",
      "precision: 0.7936809767542414\n",
      "f1: 0.8022487235019063\n"
     ]
    },
    {
     "name": "stderr",
     "output_type": "stream",
     "text": [
      "\n"
     ]
    }
   ],
   "source": [
    "acc = []\n",
    "prec = []\n",
    "f1 = []\n",
    "\n",
    "for train_index, test_index in tqdm(kf.split(X, y)):\n",
    "    X_train, y_train = X[train_index], y[train_index]\n",
    "    X_val, y_val = X[test_index], y[test_index]\n",
    "\n",
    "    my_clf = MyGradientBoostingClassifier('mse', learning_rate=0.15, n_estimators=20, subsample=0.4,\n",
    "                                      colsample=0.6, max_depth=3)\n",
    "    my_clf.fit(X_train, y_train, DecisionTreeRegressor, LGBMRegressor())\n",
    "    y_pred = my_clf.predict(X_val)\n",
    "\n",
    "    acc.append( accuracy_score(y_pred, y_val) )\n",
    "    prec.append( precision_score(y_pred, y_val) )\n",
    "    f1.append( f1_score(y_pred, y_val) )\n",
    "\n",
    "print('accuracy:', np.mean(acc))\n",
    "print('precision:', np.mean(prec))\n",
    "print('f1:', np.mean(f1))"
   ]
  },
  {
   "cell_type": "markdown",
   "metadata": {},
   "source": [
    "Каждый из алгоритмов поднял скор, а если смотреть на LightGBM - то очень существенно. Дело в более адекватном начальном приближении(соответствующем действительной природе данных), для которого бустинг далее уже именно исправляет ошибку, а не перестраивает начальное приближение до похожнего на правду состояния."
   ]
  },
  {
   "cell_type": "markdown",
   "metadata": {},
   "source": [
    "## Фидбек (бесценно)"
   ]
  },
  {
   "cell_type": "markdown",
   "metadata": {},
   "source": [
    "Очень долго не мог понять, что такое бустинг. Не понимал до тех пор, пока не дошёл тот момент, что в общем-то на самих данных мы обучаемся один раз, а все следующие разы - на ошибках в предсказаниях(инициализация вообще никак не отделялась от следующих итераций); также очень долго не понимал, что значит \"обучаемся на ошибках\", сколько бы раз не видел и не слышал эту фразу, пока не понял, что мы подменяем таргет(с того что было в постановке на ошибку), и хотим добить каждой следующей моделью \"остаток\" до таргета из постановки задачи(после слайда со сложением моделей, было ощущение что мы делаем предикт на уровне 3 + 2 + 2 + 3(то есть слагаемые все вносят существенный вклад, наверное так), а на самом деле тут скорее 8 + 1.5 + 0.4 + 0.1). "
   ]
  }
 ],
 "metadata": {
  "anaconda-cloud": {},
  "kernelspec": {
   "display_name": "Python 3",
   "language": "python",
   "name": "python3"
  },
  "language_info": {
   "codemirror_mode": {
    "name": "ipython",
    "version": 3
   },
   "file_extension": ".py",
   "mimetype": "text/x-python",
   "name": "python",
   "nbconvert_exporter": "python",
   "pygments_lexer": "ipython3",
   "version": "3.8.2"
  }
 },
 "nbformat": 4,
 "nbformat_minor": 2
}
