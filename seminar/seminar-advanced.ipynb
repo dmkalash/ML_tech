{
 "cells": [
  {
   "cell_type": "markdown",
   "metadata": {},
   "source": [
    "# Быстро строим деревья"
   ]
  },
  {
   "cell_type": "markdown",
   "metadata": {},
   "source": [
    "\n",
    "Деревья глубины 1 обычно называют решающими пнями. \n",
    "Как Вы думаете, какая сложность построения решающего пня?\n"
   ]
  },
  {
   "cell_type": "markdown",
   "metadata": {},
   "source": [
    "Представим, что мы решаем задачу регрессии, считаем для одного сплита. \n",
    "\n",
    "$$Q = F(R_m) - \\frac{N_l}{N_m} F(R_l) - \\frac{N_r}{N_m} F(R_r) $$\n",
    "\n",
    "$$F(R) = \\frac{1}{N} \\sum_{i=1}^{N}(mean(y) - y_i) ^ 2 $$\n",
    "\n",
    "$$Q = F(R_m) - \\frac{1}{N_m} [ \\sum_{i \\in R_l}(mean(y_l) - y_i) ^ 2  +  \\sum_{i \\in R_r}(mean(y_r) - y_i) ^ 2 ]  $$\n",
    "\n",
    "$F(R_m) и N_m$ от сплита не зависит, можно отбросить. Осталось научиться быстро считать такие выражения:\n",
    "$\\sum_{i \\in R_l}(mean(y_l) - y_i) ^ 2$ для всех порогов. \n",
    "\n",
    "Если делать в лоб, то получится $O(||R||^2)$, нам не нравится, очень долго. Каждый раз пересчитывать довольно глупо, потому что мы точно знаем, какой именно объект при изменении сплита перешел из левой части в правую!\n",
    "\n",
    "\n"
   ]
  },
  {
   "cell_type": "markdown",
   "metadata": {},
   "source": [
    "Воспользуемся формулой для дисперсии:\n",
    "$$D(R) = mean(y ^ 2) -  mean(y) ^ 2 =   \\frac{1}{N} \\sum_{i \\in R} y_i^2 -  \\frac{1}{N ^ 2} (\\sum_{i \\in R} y_i) ^2$$\n",
    "\n",
    "Но у нас не дисперсия, а дисперсия без деления на число объектов, то есть:\n",
    "$$\\sum_{i \\in R_l}(mean(y_l) - y_i) ^ 2 =   \\sum_{i \\in R_k} y_i^2 -  \\frac{1}{N_l} (\\sum_{i \\in R_l} y_i) ^2 $$\n",
    "Аналогично для правого сплита. "
   ]
  },
  {
   "cell_type": "markdown",
   "metadata": {},
   "source": [
    "Вот мы и получили более простой алгоритм подсчета сплита:\n",
    "\n",
    "1) Отсортировали фичу и таргет по фиче\n",
    "\n",
    "2) Сначала считаем, что порог это минимальное значение, то есть левый кусок пустой, правый все значения. Храним для каждой из частей\n",
    "а) Сумму\n",
    "б) Сумму квадратов\n",
    "в) Число объектов\n",
    "\n",
    "3) Взяли следующее значение в отсортированном списке, это значение ушло от правого куска в левое. Обновили а) б) в) в обоих кусках\n",
    "\n",
    "4) Посчитали  для каждого куска б) - а) ** 2 / в), сложили для обоих кусков. Если эта сумма маеньше лучшего значения, то это лучший сплит из текущих\n"
   ]
  },
  {
   "cell_type": "markdown",
   "metadata": {},
   "source": [
    "Реализуйте алгоритм, сравните качество со sklearn.\n",
    "\n",
    "Если получилось одинаково, Вы молодец!!!"
   ]
  },
  {
   "cell_type": "code",
   "execution_count": 1,
   "metadata": {},
   "outputs": [],
   "source": [
    "import numpy as np"
   ]
  },
  {
   "cell_type": "code",
   "execution_count": 2,
   "metadata": {},
   "outputs": [],
   "source": [
    "def get_threshold(feature, y):\n",
    "    ind = np.argsort(feature)    \n",
    "    best_thr = np.min(feature)\n",
    "    \n",
    "    left_sum_sq, left_sum, left_n = 0, 0, 0\n",
    "    right_sum_sq = np.sum(np.power(y, 2))\n",
    "    right_sum = np.sum(y) \n",
    "    right_n = y.shape[0]\n",
    "    \n",
    "    left_d = 0\n",
    "    right_d = right_sum_sq - (right_sum ** 2) / right_n\n",
    "    f_score = left_d + right_d\n",
    "    \n",
    "    for i in ind:\n",
    "        left_sum_sq += y[i] * y[i]\n",
    "        left_sum += y[i]\n",
    "        left_n += 1\n",
    "        \n",
    "        right_sum_sq -= y[i] * y[i]\n",
    "        right_sum -= y[i]\n",
    "        right_n = max(1, right_n - 1)\n",
    "        \n",
    "        left_d = left_sum_sq - (left_sum ** 2) / left_n\n",
    "        right_d = right_sum_sq - (right_sum ** 2) / right_n\n",
    "        cur_f_score = left_d + right_d\n",
    "        if cur_f_score < f_score:\n",
    "            f_score = cur_f_score\n",
    "            best_thr = feature[i]\n",
    "        \n",
    "    return f_score, best_thr\n",
    "\n",
    "\n",
    "def train_stump(X, y):\n",
    "    best_f = None\n",
    "    best_thr = None\n",
    "    best_error = float('inf')\n",
    "    left_mean, right_mean = None, None # среднее значение слева и справа, для sklearn\n",
    "    for j in range(X.shape[1]):\n",
    "        f_score, f_thr = get_threshold(X[:, j], y)\n",
    "        if f_score < best_error:\n",
    "            best_error = f_score\n",
    "            best_f = j\n",
    "            best_thr = f_thr\n",
    "    left_count = np.sum(np.where(X[:, best_f] <= best_thr, 1, 0))\n",
    "    left_mean = np.sum(np.where(X[:, best_f] <= best_thr, y, 0)) / max(1, left_count)\n",
    "    \n",
    "    right_count = np.sum(np.where(X[:, best_f] > best_thr, 1, 0))\n",
    "    right_mean = np.sum(np.where(X[:, best_f] > best_thr, y, 0)) / max(1, right_count)\n",
    "    return best_f, best_thr, left_mean, right_mean\n",
    "\n",
    "\n",
    "def predict_stump(X, best_f, best_thr):\n",
    "    left_count = np.sum(np.where(X[:, best_f] <= best_thr, 1, 0))\n",
    "    left_mean = np.sum(np.where(X[:, best_f] <= best_thr, y, 0)) / max(1, left_count)\n",
    "    \n",
    "    right_count = np.sum(np.where(X[:, best_f] > best_thr, 1, 0))\n",
    "    right_mean = np.sum(np.where(X[:, best_f] > best_thr, y, 0)) / max(1, right_count)\n",
    "    \n",
    "    return np.where(X[:, best_f] <= best_thr, left_mean, right_mean)"
   ]
  },
  {
   "cell_type": "code",
   "execution_count": 3,
   "metadata": {},
   "outputs": [],
   "source": [
    "from sklearn.datasets import load_boston\n",
    "X, y = load_boston(return_X_y=True)"
   ]
  },
  {
   "cell_type": "code",
   "execution_count": 4,
   "metadata": {},
   "outputs": [
    {
     "name": "stdout",
     "output_type": "stream",
     "text": [
      "0.0\n",
      "46.19909167710848\n"
     ]
    }
   ],
   "source": [
    "from sklearn.tree import DecisionTreeRegressor\n",
    "from sklearn.metrics import mean_squared_error\n",
    "regressor = DecisionTreeRegressor(random_state=0).fit(X, y)\n",
    "print(mean_squared_error(y, regressor.predict(X)))\n",
    "regressor_stump = DecisionTreeRegressor(random_state=0, max_depth=1).fit(X, y)\n",
    "print(mean_squared_error(y, regressor_stump.predict(X)))"
   ]
  },
  {
   "cell_type": "code",
   "execution_count": 5,
   "metadata": {},
   "outputs": [],
   "source": [
    "best_f, best_thr, left_mean, right_mean = train_stump(X, y)\n",
    "y_pred = predict_stump(X, best_f, best_thr)"
   ]
  },
  {
   "cell_type": "code",
   "execution_count": 6,
   "metadata": {},
   "outputs": [
    {
     "data": {
      "text/plain": [
       "46.19909167710848"
      ]
     },
     "execution_count": 6,
     "metadata": {},
     "output_type": "execute_result"
    }
   ],
   "source": [
    "mean_squared_error(y_pred, y)"
   ]
  }
 ],
 "metadata": {
  "anaconda-cloud": {},
  "kernelspec": {
   "display_name": "Python 3",
   "language": "python",
   "name": "python3"
  },
  "language_info": {
   "codemirror_mode": {
    "name": "ipython",
    "version": 3
   },
   "file_extension": ".py",
   "mimetype": "text/x-python",
   "name": "python",
   "nbconvert_exporter": "python",
   "pygments_lexer": "ipython3",
   "version": "3.8.2"
  }
 },
 "nbformat": 4,
 "nbformat_minor": 2
}
