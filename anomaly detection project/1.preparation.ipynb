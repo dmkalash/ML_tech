{
 "cells": [
  {
   "cell_type": "code",
   "execution_count": 162,
   "metadata": {},
   "outputs": [],
   "source": [
    "import pandas as pd\n",
    "import numpy as np\n",
    "import matplotlib.pyplot as plt\n",
    "from tqdm import tqdm\n",
    "import re\n",
    "import os\n",
    "%matplotlib inline\n",
    "\n",
    "plt.style.use('ggplot')\n",
    "plt.rcParams['figure.figsize'] = (12,5)"
   ]
  },
  {
   "cell_type": "code",
   "execution_count": 163,
   "metadata": {},
   "outputs": [],
   "source": [
    "data_dir = 'content'"
   ]
  },
  {
   "cell_type": "code",
   "execution_count": 164,
   "metadata": {},
   "outputs": [],
   "source": [
    "garb = ['7725.dat', '14790.dat', '11173.dat', '9864.dat', '11767.dat', '11772.dat', '15058.dat',\n",
    "        '26525.dat', '19349.dat', '10423.dat', '12234.dat', '20244.dat', '12431.dat', '24140.dat',\n",
    "        '14518.dat', '7553.dat', '2629.dat', '6301.dat', '11510.dat', '27883.dat', '8710.dat',\n",
    "        '26989.dat', '8841.dat', '10143.dat', '21542.dat', '6323.dat', '1115.dat', '20266.dat',\n",
    "        '14060.dat', '6279.dat', '27040.dat', '8862.dat', '26202.dat', '24173.dat', '22728.dat',\n",
    "        '13655.dat', '453.dat', '8861.dat', '13222.dat', '3952.dat', '11408.dat', '16953.dat', '14229.dat',\n",
    "        '13787.dat', '4579.dat', '3377.dat', '1210.dat', '22011.dat', '6972.dat', '2268.dat']\n",
    "\n",
    "empty = ['22728.dat', '11772.dat', '14790.dat', '11173.dat', '26525.dat', '12234.dat', '12431.dat', \n",
    "        '20244.dat', '14518.dat', '7553.dat', '2629.dat', '8710.dat', '1115.dat', '14060.dat', '6279.dat', \n",
    "        '27040.dat', '8862.dat' ,'26202.dat', '24173.dat', '13655.dat', '13222.dat', '11408.dat', '14229.dat', \n",
    "         '13787.dat', '4579.dat','22011.dat', '6972.dat', '2268.dat']\n",
    "\n",
    "broken = ['7725.dat', '9864.dat','11767.dat', '15058.dat' ,'19349.dat' ,'10423.dat' ,'24140.dat' ,\n",
    "        '11510.dat','27883.dat' ,'8841.dat','10143.dat','21542.dat','6323.dat','20266.dat','453.dat',\n",
    "        '8861.dat', '3377.dat','1210.dat','3952.dat','26989.dat','6301.dat']\n",
    "\n",
    "not_unique = ['16953.dat']"
   ]
  },
  {
   "cell_type": "code",
   "execution_count": 165,
   "metadata": {},
   "outputs": [],
   "source": [
    "def get_description(filename):\n",
    "    if filename == '.DS_Store':\n",
    "        return\n",
    "    with open(data_dir + '/' + filename) as f:\n",
    "        \n",
    "        dt = f.read().lower()\n",
    "        \n",
    "        dt = re.sub(r'\\s+', ' ', dt)\n",
    "        dt = re.sub(r'\\&[a-zA-Z]{1,8}\\;', ' ', dt)\n",
    "        \n",
    "        dt = re.sub(r'<[ ]*br[ ]*>', '', dt)\n",
    "        dt = re.sub(r'<[ ]*br[ ]*/[ ]*>', '', dt)\n",
    "        dt = re.sub(r'<em>', '', dt)\n",
    "        dt = re.sub(r'<\\/em>', '', dt)\n",
    "        dt = re.sub(r'<samp>', '', dt) \n",
    "        dt = re.sub(r'<\\/div>', '', dt)\n",
    "        dt = re.sub(r'<[ ]*small[ ]*>', '', dt)\n",
    "        dt = re.sub(r'<[ ]*strong[ ]*>', '', dt)\n",
    "        dt = re.sub(r'<[ ]*\\/small[ ]*>', '', dt)\n",
    "        dt = re.sub(r'<[ ]*\\/strong[ ]*>', '', dt)\n",
    "        dt = re.sub(r'<[ ]*p[ ]*>', '', dt)\n",
    "        dt = re.sub(r'<[ ]*/p[ ]*>', '', dt)\n",
    "        dt = re.sub(r'<[ ]*b[ ]*>', '', dt)\n",
    "        dt = re.sub(r'<[ ]*\\/b[ ]*>', '', dt)\n",
    "        dt = re.sub(r'<[ ]*i[ ]*>', '', dt)\n",
    "        dt = re.sub(r'<[ ]*\\/i[ ]*>', '', dt)\n",
    "        dt = re.sub(r'<[ ]*u[ ]*>', '', dt)\n",
    "        dt = re.sub(r'<[ ]*\\/u[ ]*>', '', dt)\n",
    "        \n",
    "        dt = re.sub(r'\\[\\/img\\]', ' ', dt)\n",
    "        dt = re.sub(r'\\[attach\\]', ' ', dt)\n",
    "        \n",
    "        dt = re.sub(r'\\.ru\\b', ' ', dt)\n",
    "        dt = re.sub(r'\\.com\\b', ' ', dt)\n",
    "        dt = re.sub(r'\\.ua\\b', ' ', dt)\n",
    "        dt = re.sub(r'\\.ру\\b', ' ', dt)\n",
    "        \n",
    "        dt = re.sub(r'\\s+lt\\s+', ' ', dt)\n",
    "        dt = re.sub(r'\\s+gt\\s+', ' ', dt)\n",
    "        \n",
    "        dt = re.sub(r'http\\:\\/\\/[\\w\\-&\\./?=\\+;@#%]*', ' ', dt)\n",
    "        dt = re.sub(r'https\\:\\/\\/[\\w\\-&\\./?=\\+;@#%]*', ' ', dt)\n",
    "        dt = re.sub(r'ftp\\:\\/\\/[\\w\\-&\\./?=\\+;@#%]*', ' ', dt)\n",
    "        dt = re.sub(r'www\\.[\\w\\-&\\./?=\\+;@#%]*', ' ', dt)\n",
    "        \n",
    "        t = re.findall(r'<meta [^><]*name[^><]*=[^><]*\"description[^>]*>', dt)\n",
    "        \n",
    "        with open('description/{}_desc.txt'.format(filename), 'w') as out:\n",
    "            if len(t) != 0:\n",
    "                if filename in broken:\n",
    "                    tt = re.findall(r'content[^$]*', t[0])\n",
    "                    if len(tt) > 0:\n",
    "                        tt = tt[0]\n",
    "                        tt = re.sub('content', '', tt)\n",
    "                        print(tt, file=out)\n",
    "                    else:\n",
    "                        print('', file=out)\n",
    "                elif filename not in empty:\n",
    "                    if filename in not_unique:\n",
    "                        t[0] = t[1] \n",
    "                    tt1 = re.findall(r'content[ ]*=[ ]*[\"][^\"]*[\"]', t[0]) \n",
    "                    tt2 = re.findall(r'content[ ]*=[ ]*[\\'][^\\']*[\\']', t[0]) \n",
    "                    tt3 = re.findall(r'pluginent[ ]*=[ ]*[\"][^\"]*[\"]', t[0]) \n",
    "                    tt4 = re.findall(r'pluginent[ ]*=[ ]*[\\'][^\\']*[\\']', t[0])\n",
    "                    desc = [tt1, tt2, tt3, tt4]\n",
    "                    non_zero_ind = np.argmax(np.array([len(tt1), len(tt2), len(tt3), len(tt4)]))\n",
    "                    tt = desc[non_zero_ind][0]\n",
    "                    tt = re.sub('content[ ]*=', '', tt)\n",
    "                    tt = re.sub('pluginent[ ]*=', '', tt)\n",
    "                    tt = tt.strip()\n",
    "                    print(tt, file=out)\n",
    "                else:\n",
    "                    print('', file=out)"
   ]
  },
  {
   "cell_type": "code",
   "execution_count": 166,
   "metadata": {},
   "outputs": [],
   "source": [
    "filenames = [filename for filename in os.listdir(data_dir)]"
   ]
  },
  {
   "cell_type": "markdown",
   "metadata": {},
   "source": [
    "## Последовательная обработка"
   ]
  },
  {
   "cell_type": "code",
   "execution_count": 116,
   "metadata": {},
   "outputs": [
    {
     "name": "stderr",
     "output_type": "stream",
     "text": [
      "100%|██████████| 28026/28026 [13:28<00:00, 34.67it/s] \n"
     ]
    }
   ],
   "source": [
    "# for filename in tqdm(filenames):\n",
    "#     get_description(filename)"
   ]
  },
  {
   "cell_type": "code",
   "execution_count": 117,
   "metadata": {},
   "outputs": [
    {
     "name": "stdout",
     "output_type": "stream",
     "text": [
      "21482\n"
     ]
    }
   ],
   "source": [
    "# print(cnt)"
   ]
  },
  {
   "cell_type": "markdown",
   "metadata": {},
   "source": [
    "## Параллельная обработка"
   ]
  },
  {
   "cell_type": "code",
   "execution_count": 167,
   "metadata": {},
   "outputs": [
    {
     "data": {
      "text/plain": [
       "False"
      ]
     },
     "execution_count": 167,
     "metadata": {},
     "output_type": "execute_result"
    }
   ],
   "source": [
    "from multiprocessing.dummy import Pool, Queue\n",
    "import os \n",
    "data_dir = 'content' \n",
    "\n",
    "queue = Queue()\n",
    "for filename in filenames:\n",
    "    queue.put(filename)\n",
    "    \n",
    "queue.empty()"
   ]
  },
  {
   "cell_type": "code",
   "execution_count": 168,
   "metadata": {},
   "outputs": [
    {
     "name": "stderr",
     "output_type": "stream",
     "text": [
      "100%|██████████| 28026/28026 [20:03<00:00, 23.29it/s] \n"
     ]
    }
   ],
   "source": [
    "def process_page_wrapper(i):\n",
    "    while not queue.empty():\n",
    "        filename = queue.get()\n",
    "        get_description(filename)\n",
    "\n",
    "        with lock:\n",
    "            pbar.update(1)\n",
    "                \n",
    "with Pool(processes=4) as pool, tqdm(total=queue.qsize()) as pbar:\n",
    "    lock = pbar.get_lock()\n",
    "    pool.map(process_page_wrapper, range(pool._processes))\n",
    "\n",
    "pool.join()"
   ]
  },
  {
   "cell_type": "markdown",
   "metadata": {},
   "source": [
    "## Идеи "
   ]
  },
  {
   "cell_type": "code",
   "execution_count": null,
   "metadata": {},
   "outputs": [],
   "source": [
    "'''\n",
    "- &quot; 3434\n",
    "- &nbsp; 65\n",
    "- &rarr; 1787\n",
    "- &amp - 5480\n",
    "- '[/img]' -> ' ' 900\n",
    "- ссылки \"http://scg.civfanatics.ru/sav//shogun-start-small.jpg - 2716 \n",
    "- .ру .ua .ru  70\n",
    "- [архив] 399\n",
    "- [atach] 6163\n",
    "- &laquo;  253 \n",
    "- lt gt\n",
    "\n",
    "'meta name=\"keywords\"'\n",
    "\n",
    "- h1\n",
    "- вычленить хоть какой-то текст страницы для документов, где нет ни title, ни остального.\n",
    "    Можно же [а-яА-Я]* ТОЛЬКО где пусто\n",
    "    \n",
    "'''"
   ]
  },
  {
   "cell_type": "code",
   "execution_count": null,
   "metadata": {},
   "outputs": [],
   "source": []
  },
  {
   "cell_type": "code",
   "execution_count": 127,
   "metadata": {},
   "outputs": [
    {
     "name": "stderr",
     "output_type": "stream",
     "text": [
      "100%|██████████| 28026/28026 [02:43<00:00, 171.56it/s]\n"
     ]
    }
   ],
   "source": [
    "cnt = 0\n",
    "for filename in tqdm(filenames):\n",
    "    if filename == '.DS_Store':\n",
    "        break\n",
    "    with open(data_dir + '/' + filename) as f:\n",
    "        dt = f.read().lower()\n",
    "        if 'h1' in dt:\n",
    "            cnt += 1"
   ]
  },
  {
   "cell_type": "code",
   "execution_count": null,
   "metadata": {},
   "outputs": [],
   "source": []
  },
  {
   "cell_type": "code",
   "execution_count": null,
   "metadata": {},
   "outputs": [],
   "source": []
  }
 ],
 "metadata": {
  "kernelspec": {
   "display_name": "Python 3",
   "language": "python",
   "name": "python3"
  },
  "language_info": {
   "codemirror_mode": {
    "name": "ipython",
    "version": 3
   },
   "file_extension": ".py",
   "mimetype": "text/x-python",
   "name": "python",
   "nbconvert_exporter": "python",
   "pygments_lexer": "ipython3",
   "version": "3.8.2"
  }
 },
 "nbformat": 4,
 "nbformat_minor": 4
}
