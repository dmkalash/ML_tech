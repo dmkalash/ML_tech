{
 "cells": [
  {
   "cell_type": "code",
   "execution_count": 31,
   "metadata": {},
   "outputs": [],
   "source": [
    "import pandas as pd\n",
    "import numpy as np\n",
    "import matplotlib.pyplot as plt\n",
    "from tqdm import tqdm\n",
    "import re\n",
    "import os\n",
    "%matplotlib inline\n",
    "\n",
    "plt.style.use('ggplot')\n",
    "plt.rcParams['figure.figsize'] = (12,5)\n",
    "\n",
    "data_dir = 'content'"
   ]
  },
  {
   "cell_type": "code",
   "execution_count": 32,
   "metadata": {},
   "outputs": [],
   "source": [
    "filenames = [filename for filename in os.listdir(data_dir)]"
   ]
  },
  {
   "cell_type": "code",
   "execution_count": 33,
   "metadata": {},
   "outputs": [],
   "source": [
    "kw_empty = ['1744.dat', '14790.dat', '11173.dat', '11772.dat', '26525.dat', '17774.dat', '7553.dat', '2629.dat',\n",
    "             '8710.dat', '13645.dat', '1894.dat', '14060.dat', '27040.dat', '8862.dat', '26202.dat', '24173.dat',\n",
    "             '13222.dat', '22011.dat', '6972.dat', '2268.dat']\n",
    "kw_broken = ['22948.dat', '20331.dat', '19349.dat', '17777.dat', '18928.dat', '13501.dat', '17392.dat',\n",
    "            '9978.dat', '14103.dat', '6455.dat', '453.dat', '3952.dat', '20038.dat', '5868.dat', '1210.dat',\n",
    "            '17929.dat']\n",
    "not_unique = ['16953.dat']\n",
    "alone = ['20069.dat','27042.dat', '27737.dat', '26800.dat', '4078.dat', '8569.dat', '11658.dat', '17122.dat', '17485.dat',\n",
    "         '15838.dat', '10590.dat', '3002.dat', '15566.dat', '18840.dat']"
   ]
  },
  {
   "cell_type": "code",
   "execution_count": 34,
   "metadata": {},
   "outputs": [],
   "source": [
    "def get_keywords(filename):\n",
    "    global garb\n",
    "    if filename == '.DS_Store':\n",
    "        return\n",
    "    with open(data_dir + '/' + filename) as f:\n",
    "        \n",
    "        dt = f.read().lower()\n",
    "        \n",
    "        dt = re.sub(r'\\s+', ' ', dt)\n",
    "        dt = re.sub(r'\\&[a-zA-Z]{1,8}\\;', ' ', dt)\n",
    "        \n",
    "        dt = re.sub(r'<[ ]*br[ ]*>', '', dt)\n",
    "        dt = re.sub(r'<[ ]*br[ ]*/[ ]*>', '', dt)\n",
    "        dt = re.sub(r'<em>', '', dt)\n",
    "        dt = re.sub(r'<\\/em>', '', dt)\n",
    "        dt = re.sub(r'<samp>', '', dt) \n",
    "        dt = re.sub(r'<\\/div>', '', dt)\n",
    "        dt = re.sub(r'<[ ]*small[ ]*>', '', dt)\n",
    "        dt = re.sub(r'<[ ]*strong[ ]*>', '', dt)\n",
    "        dt = re.sub(r'<[ ]*\\/small[ ]*>', '', dt)\n",
    "        dt = re.sub(r'<[ ]*\\/strong[ ]*>', '', dt)\n",
    "        dt = re.sub(r'<[ ]*p[ ]*>', '', dt)\n",
    "        dt = re.sub(r'<[ ]*/p[ ]*>', '', dt)\n",
    "        dt = re.sub(r'<[ ]*b[ ]*>', '', dt)\n",
    "        dt = re.sub(r'<[ ]*\\/b[ ]*>', '', dt)\n",
    "        dt = re.sub(r'<[ ]*i[ ]*>', '', dt)\n",
    "        dt = re.sub(r'<[ ]*\\/i[ ]*>', '', dt)\n",
    "        dt = re.sub(r'<[ ]*u[ ]*>', '', dt)\n",
    "        dt = re.sub(r'<[ ]*\\/u[ ]*>', '', dt)\n",
    "        \n",
    "        dt = re.sub(r'\\[\\/img\\]', ' ', dt)\n",
    "        dt = re.sub(r'\\[attach\\]', ' ', dt)\n",
    "        \n",
    "        dt = re.sub(r'\\.ru\\b', ' ', dt)\n",
    "        dt = re.sub(r'\\.com\\b', ' ', dt)\n",
    "        dt = re.sub(r'\\.ua\\b', ' ', dt)\n",
    "        dt = re.sub(r'\\.ру\\b', ' ', dt)\n",
    "        \n",
    "        dt = re.sub(r'\\s+lt\\s+', ' ', dt)\n",
    "        dt = re.sub(r'\\s+gt\\s+', ' ', dt)\n",
    "        \n",
    "        dt = re.sub(r'http\\:\\/\\/[\\w\\-&\\./?=\\+;@#%]*', ' ', dt)\n",
    "        dt = re.sub(r'https\\:\\/\\/[\\w\\-&\\./?=\\+;@#%]*', ' ', dt)\n",
    "        dt = re.sub(r'ftp\\:\\/\\/[\\w\\-&\\./?=\\+;@#%]*', ' ', dt)\n",
    "        dt = re.sub(r'www\\.[\\w\\-&\\./?=\\+;@#%]*', ' ', dt)\n",
    "            \n",
    "        t = re.findall(r'<meta [^><]*name[^><]*=[^><]*\"keywords[^>]*>', dt)\n",
    "        \n",
    "        with open('keywords/{}_kw.txt'.format(filename), 'w') as out:\n",
    "            if len(t) != 0:\n",
    "                if filename in kw_broken:\n",
    "                    tt = re.findall(r'content[^$]*', t[0])\n",
    "                    if len(tt) > 0:\n",
    "                        tt = tt[0]\n",
    "                        tt = re.sub('content', '', tt)\n",
    "                        print(tt, file=out)\n",
    "                    else:\n",
    "                        print('', file=out)\n",
    "                        \n",
    "                elif filename in alone:\n",
    "                    t = re.findall('[а-я]+', dt)\n",
    "                    tt = ''\n",
    "                    bord = int(0.8 * len(t))\n",
    "                    t = t[bord:bord + 100]\n",
    "                    for st in t:\n",
    "                        tt += st + ' '\n",
    "                    print(tt, file=out)\n",
    "                    \n",
    "                elif filename not in kw_empty:\n",
    "                    if filename in not_unique:\n",
    "                        t[0] = t[1] \n",
    "                    tt1 = re.findall(r'content[ ]*=[ ]*[\"][^\"]*[\"]', t[0]) \n",
    "                    tt2 = re.findall(r'content[ ]*=[ ]*[\\'][^\\']*[\\']', t[0]) \n",
    "                    tt3 = re.findall(r'pluginent[ ]*=[ ]*[\"][^\"]*[\"]', t[0]) \n",
    "                    tt4 = re.findall(r'pluginent[ ]*=[ ]*[\\'][^\\']*[\\']', t[0])\n",
    "                    desc = [tt1, tt2, tt3, tt4]\n",
    "                    non_zero_ind = np.argmax(np.array([len(tt1), len(tt2), len(tt3), len(tt4)]))\n",
    "                    tt = desc[non_zero_ind][0]\n",
    "                    tt = re.sub('content[ ]*=', '', tt)\n",
    "                    tt = re.sub('pluginent[ ]*=', '', tt)\n",
    "                    tt = tt.strip()\n",
    "                    print(tt, file=out)\n",
    "                    \n",
    "                else:\n",
    "                    print('', file=out)"
   ]
  },
  {
   "cell_type": "code",
   "execution_count": 35,
   "metadata": {},
   "outputs": [
    {
     "data": {
      "text/plain": [
       "False"
      ]
     },
     "execution_count": 35,
     "metadata": {},
     "output_type": "execute_result"
    }
   ],
   "source": [
    "from multiprocessing.dummy import Pool, Queue\n",
    "import os \n",
    "data_dir = 'content' \n",
    "\n",
    "queue = Queue()\n",
    "for filename in filenames:\n",
    "    queue.put(filename)\n",
    "    \n",
    "queue.empty()"
   ]
  },
  {
   "cell_type": "code",
   "execution_count": 36,
   "metadata": {},
   "outputs": [
    {
     "name": "stderr",
     "output_type": "stream",
     "text": [
      "100%|██████████| 28026/28026 [20:00<00:00, 23.35it/s] \n"
     ]
    }
   ],
   "source": [
    "def process_page_wrapper(i):\n",
    "    while not queue.empty():\n",
    "        filename = queue.get()\n",
    "        get_keywords(filename)\n",
    "\n",
    "        with lock:\n",
    "            pbar.update(1)\n",
    "                \n",
    "with Pool(processes=4) as pool, tqdm(total=queue.qsize()) as pbar:\n",
    "    lock = pbar.get_lock()\n",
    "    pool.map(process_page_wrapper, range(pool._processes))\n",
    "\n",
    "pool.join()"
   ]
  },
  {
   "cell_type": "code",
   "execution_count": null,
   "metadata": {},
   "outputs": [],
   "source": []
  },
  {
   "cell_type": "code",
   "execution_count": 30,
   "metadata": {},
   "outputs": [
    {
     "name": "stderr",
     "output_type": "stream",
     "text": [
      " 70%|██████▉   | 19583/28026 [21:05<09:05, 15.48it/s]  \n"
     ]
    },
    {
     "ename": "OSError",
     "evalue": "[Errno 28] No space left on device: 'keywords/5217.dat_kw.txt'",
     "output_type": "error",
     "traceback": [
      "\u001b[0;31m---------------------------------------------------------------------------\u001b[0m",
      "\u001b[0;31mOSError\u001b[0m                                   Traceback (most recent call last)",
      "\u001b[0;32m<ipython-input-30-278d88b1d8d2>\u001b[0m in \u001b[0;36m<module>\u001b[0;34m\u001b[0m\n\u001b[1;32m      1\u001b[0m \u001b[0;32mfor\u001b[0m \u001b[0mfilename\u001b[0m \u001b[0;32min\u001b[0m \u001b[0mtqdm\u001b[0m\u001b[0;34m(\u001b[0m\u001b[0mfilenames\u001b[0m\u001b[0;34m)\u001b[0m\u001b[0;34m:\u001b[0m\u001b[0;34m\u001b[0m\u001b[0;34m\u001b[0m\u001b[0m\n\u001b[0;32m----> 2\u001b[0;31m     \u001b[0mget_keywords\u001b[0m\u001b[0;34m(\u001b[0m\u001b[0mfilename\u001b[0m\u001b[0;34m)\u001b[0m\u001b[0;34m\u001b[0m\u001b[0;34m\u001b[0m\u001b[0m\n\u001b[0m",
      "\u001b[0;32m<ipython-input-29-3442a5676a9a>\u001b[0m in \u001b[0;36mget_keywords\u001b[0;34m(filename)\u001b[0m\n\u001b[1;32m     47\u001b[0m         \u001b[0mt\u001b[0m \u001b[0;34m=\u001b[0m \u001b[0mre\u001b[0m\u001b[0;34m.\u001b[0m\u001b[0mfindall\u001b[0m\u001b[0;34m(\u001b[0m\u001b[0;34mr'<meta [^><]*name[^><]*=[^><]*\"keywords[^>]*>'\u001b[0m\u001b[0;34m,\u001b[0m \u001b[0mdt\u001b[0m\u001b[0;34m)\u001b[0m\u001b[0;34m\u001b[0m\u001b[0;34m\u001b[0m\u001b[0m\n\u001b[1;32m     48\u001b[0m \u001b[0;34m\u001b[0m\u001b[0m\n\u001b[0;32m---> 49\u001b[0;31m         \u001b[0;32mwith\u001b[0m \u001b[0mopen\u001b[0m\u001b[0;34m(\u001b[0m\u001b[0;34m'keywords/{}_kw.txt'\u001b[0m\u001b[0;34m.\u001b[0m\u001b[0mformat\u001b[0m\u001b[0;34m(\u001b[0m\u001b[0mfilename\u001b[0m\u001b[0;34m)\u001b[0m\u001b[0;34m,\u001b[0m \u001b[0;34m'w'\u001b[0m\u001b[0;34m)\u001b[0m \u001b[0;32mas\u001b[0m \u001b[0mout\u001b[0m\u001b[0;34m:\u001b[0m\u001b[0;34m\u001b[0m\u001b[0;34m\u001b[0m\u001b[0m\n\u001b[0m\u001b[1;32m     50\u001b[0m             \u001b[0;32mif\u001b[0m \u001b[0mlen\u001b[0m\u001b[0;34m(\u001b[0m\u001b[0mt\u001b[0m\u001b[0;34m)\u001b[0m \u001b[0;34m!=\u001b[0m \u001b[0;36m0\u001b[0m\u001b[0;34m:\u001b[0m\u001b[0;34m\u001b[0m\u001b[0;34m\u001b[0m\u001b[0m\n\u001b[1;32m     51\u001b[0m                 \u001b[0;32mif\u001b[0m \u001b[0mfilename\u001b[0m \u001b[0;32min\u001b[0m \u001b[0mkw_broken\u001b[0m\u001b[0;34m:\u001b[0m\u001b[0;34m\u001b[0m\u001b[0;34m\u001b[0m\u001b[0m\n",
      "\u001b[0;31mOSError\u001b[0m: [Errno 28] No space left on device: 'keywords/5217.dat_kw.txt'"
     ]
    }
   ],
   "source": [
    "for filename in tqdm(filenames):\n",
    "    get_keywords(filename)"
   ]
  },
  {
   "cell_type": "code",
   "execution_count": null,
   "metadata": {},
   "outputs": [],
   "source": []
  }
 ],
 "metadata": {
  "kernelspec": {
   "display_name": "Python 3",
   "language": "python",
   "name": "python3"
  },
  "language_info": {
   "codemirror_mode": {
    "name": "ipython",
    "version": 3
   },
   "file_extension": ".py",
   "mimetype": "text/x-python",
   "name": "python",
   "nbconvert_exporter": "python",
   "pygments_lexer": "ipython3",
   "version": "3.8.2"
  }
 },
 "nbformat": 4,
 "nbformat_minor": 4
}
