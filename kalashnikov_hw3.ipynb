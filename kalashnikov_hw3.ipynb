{
 "cells": [
  {
   "cell_type": "markdown",
   "metadata": {},
   "source": [
    "### Алгоритмы интеллектуальной обработки больших объемов данных\n",
    "## Домашнее задание №3 - Дерево решений\n"
   ]
  },
  {
   "cell_type": "markdown",
   "metadata": {},
   "source": [
    "**Общая информация**\n",
    "\n",
    "**Срок сдачи:** 08 декабря 2020, 08:30   \n",
    "**Штраф за опоздание:** -2 балла после 08:30 08 декабря, -4 балла после 08:30 15 декабря, -6 баллов после 08:30 22 декабря, -8 баллов после 08:30 29 декабря.\n",
    "\n",
    "При отправлении ДЗ указывайте фамилию в названии файла Присылать ДЗ необходимо в виде ссылки на свой github репозиторий на почту ml1.sphere@mail.ru с указанием темы в следующем формате:\n",
    "[ML0220, Задание 3] Фамилия Имя. \n",
    "\n",
    "\n",
    "Используйте данный Ipython Notebook при оформлении домашнего задания."
   ]
  },
  {
   "cell_type": "markdown",
   "metadata": {},
   "source": [
    "##  Реализуем дерево решений (3 балла)"
   ]
  },
  {
   "cell_type": "markdown",
   "metadata": {},
   "source": [
    "Допишите недостающие части дерева решений. Ваша реализация дерева должна работать по точности не хуже DecisionTreeClassifier из sklearn.\n",
    "Внимание: если Вас не устраивает предложенная структура хранения дерева, Вы без потери баллов можете сделать свой класс DecisionTreeClassifier, в котором сами полностью воспроизведете алгоритм дерева решений. Обязательно в нем иметь только функции fit, predict"
   ]
  },
  {
   "cell_type": "code",
   "execution_count": 1844,
   "metadata": {},
   "outputs": [],
   "source": [
    "import matplotlib.pyplot as plt\n",
    "import numpy as np\n",
    "import pandas as pd\n",
    "\n",
    "from sklearn.datasets import load_wine\n",
    "from sklearn.ensemble import RandomForestClassifier\n",
    "from sklearn.metrics import accuracy_score, f1_score, make_scorer, roc_auc_score, precision_score, recall_score\n",
    "from sklearn.model_selection import cross_val_score\n",
    "from sklearn.model_selection import KFold, train_test_split, GridSearchCV, RandomizedSearchCV\n",
    "from sklearn.tree import DecisionTreeClassifier\n",
    "from tqdm import tqdm"
   ]
  },
  {
   "cell_type": "code",
   "execution_count": 1845,
   "metadata": {},
   "outputs": [],
   "source": [
    "class MyDecisionTreeClassifier:\n",
    "    NON_LEAF_TYPE = 0\n",
    "    LEAF_TYPE = 1\n",
    "\n",
    "    def __init__(self, min_samples_split=2, max_depth=5, criterion='gini'):\n",
    "        \"\"\"\n",
    "        criterion -- критерий расщепления. необходимо релизовать три:\n",
    "        Ошибка классификации, Индекс Джини, Энтропийный критерий\n",
    "        max_depth -- максимальная глубина дерева\n",
    "        min_samples_split -- минимальное число объектов в листе, чтобы сделать новый сплит\n",
    "        \"\"\"\n",
    "        self.min_samples_split = min_samples_split\n",
    "        self.max_depth = max_depth\n",
    "        self.num_class = -1\n",
    "        # Для последнего задания\n",
    "        self.feature_importances_ = None\n",
    "        if criterion == 'gini':\n",
    "            self.criterion = self.__giny_criterion\n",
    "        elif criterion == 'entropy':\n",
    "            self.criterion = self.__entropy_criterion\n",
    "        elif criterion == 'classification_error':\n",
    "            self.criterion = self.__classification_error_criterion\n",
    "        else:\n",
    "            raise Exception(\"Unknown criterion {}\".format(criterion))\n",
    "        # Структура, которая описывает дерево\n",
    "        # Представляет словарь, где для  node_id (айдишник узла дерева) храним\n",
    "        # (тип_узла, айдишник признака сплита, порог сплита) если тип NON_LEAF_TYPE\n",
    "        # (тип_узла, предсказание класса, вероятность класса) если тип LEAF_TYPE\n",
    "        # Подразумевается, что у каждого node_id в дереве слева \n",
    "        # узел с айди 2 * node_id + 1, а справа 2 * node_id + 2\n",
    "        self.tree = dict()\n",
    "    \n",
    "    \n",
    "    def __classification_error_criterion(self, cumsum, sizes):\n",
    "        return 1 - np.max(cumsum, axis=1) / sizes\n",
    "    \n",
    "    \n",
    "    def __entropy_criterion(self, cumsum, sizes):\n",
    "        pvm = cumsum / sizes[:, None]\n",
    "        pvm = np.where(np.absolute(pvm) < 1e-15, 1e-15, pvm)\n",
    "        return -np.sum(pvm * np.log(pvm), axis=1)\n",
    "    \n",
    "    \n",
    "    def __giny_criterion(self, cumsum, sizes):\n",
    "        return 1 - np.sum(np.square(cumsum), axis=1) / np.square(sizes)\n",
    "        \n",
    "\n",
    "    def __div_samples(self, x, y, feature_id, threshold):\n",
    "        \"\"\"\n",
    "        Разделяет объекты на 2 множества\n",
    "        x -- матрица объектов\n",
    "        y -- вектор ответов\n",
    "        feature_id -- айдишник признака, по которому делаем сплит\n",
    "        threshold -- порог, по которому делаем сплит\n",
    "        \"\"\"\n",
    "        left_mask = x[:, feature_id] > threshold\n",
    "        right_mask = ~left_mask\n",
    "        return x[left_mask], x[right_mask], y[left_mask], y[right_mask]\n",
    "    \n",
    "\n",
    "    def __process_col(self, col, y):\n",
    "        ind = np.argsort(col)\n",
    "        y = y[ind]\n",
    "        obj = np.arange(y.size)\n",
    "        \n",
    "        onehot = np.zeros((y.size, self.num_class))\n",
    "        onehot[obj, y] = 1\n",
    "        \n",
    "        left = np.cumsum(onehot, axis=0)\n",
    "        right = left[-1][None, :] - left\n",
    "        parent = left[-1][None, :]\n",
    "        \n",
    "        yl = np.arange(1, y.size + 1)\n",
    "        yr = np.arange(y.size - 1, -1, -1)\n",
    "        yr[-1] = 1\n",
    "        yp = np.array([y.size])\n",
    "        \n",
    "        left_gain = self.criterion(left, yl)\n",
    "        right_gain = self.criterion(right, yr)\n",
    "        parent_gain = self.criterion(parent, yp)[0]\n",
    "        \n",
    "        yl = np.arange(1, y.size + 1)\n",
    "        yr = np.arange(y.size - 1, -1, -1)\n",
    "        yr[-1] = 1\n",
    "        \n",
    "        child_gain = (yl * left_gain + yr * right_gain) / y.size\n",
    "        best_ind = np.argmin(child_gain)\n",
    "        \n",
    "        return parent_gain - child_gain[best_ind], col[ind[best_ind]]\n",
    "        \n",
    "    \n",
    "    def __find_threshold(self, x, y):\n",
    "        \"\"\"\n",
    "        Находим оптимальный признак и порог для сплита\n",
    "        Здесь используемые разные impurity в зависимости от self.criterion\n",
    "        \"\"\"\n",
    "\n",
    "        res = np.array([self.__process_col(x[:, j], y) for j in range(x[0].size)])\n",
    "        j_best = np.argmax(res[:, 0])\n",
    "        q_max, thr_best = res[j_best]\n",
    "            \n",
    "        self.feature_importances_[j_best] += np.abs(q_max)\n",
    "        return j_best, thr_best\n",
    " \n",
    "\n",
    "    def __fit_node(self, x, y, node_id, depth):\n",
    "        \"\"\"\n",
    "        Делаем новый узел в дереве\n",
    "        Решаем, терминальный он или нет\n",
    "        Если нет, то строим левый узел  с айди 2 * node_id + 1\n",
    "        И правый узел с  айди 2 * node_id + 2\n",
    "        \"\"\"\n",
    "        if x.shape[0] < self.min_samples_split or self.max_depth == depth:\n",
    "            target = np.bincount(y)\n",
    "            ind_max = np.argmax(target)\n",
    "            self.tree[node_id] = (self.__class__.LEAF_TYPE, ind_max, target[ind_max] / y.size)\n",
    "            return\n",
    "        \n",
    "        j, thr = self.__find_threshold(x, y)\n",
    "        xl, xr, yl, yr = self.__div_samples(x, y, j, thr)\n",
    "        \n",
    "        if yl.size == 0 or yr.size == 0:\n",
    "            yt = yr if yl.size == 0 else yl\n",
    "            target = np.bincount(yt)\n",
    "            ind_max = np.argmax(target)\n",
    "            self.tree[node_id] = (self.__class__.LEAF_TYPE, ind_max, target[ind_max] / yt.size)\n",
    "            return\n",
    "        \n",
    "        self.tree[node_id] = (self.__class__.NON_LEAF_TYPE, j, thr)\n",
    "        self.__fit_node(xl, yl, node_id * 2 + 1, depth + 1)\n",
    "        self.__fit_node(xr, yr, node_id * 2 + 2, depth + 1)\n",
    "    \n",
    "    def fit(self, x, y):\n",
    "        \"\"\"\n",
    "        Рекурсивно строим дерево решений\n",
    "        Начинаем с корня node_id 0\n",
    "        \"\"\"\n",
    "        self.num_class = np.unique(y).size\n",
    "        self.feature_importances_ = np.zeros(len(x[0]))\n",
    "        \n",
    "        self.__fit_node(x, y, 0, 0)\n",
    "        self.feature_importances_ /= np.sum(self.feature_importances_)\n",
    "\n",
    "    def __predict_class(self, x, node_id):\n",
    "        \"\"\"\n",
    "        Рекурсивно обходим дерево по всем узлам,\n",
    "        пока не дойдем до терминального\n",
    "        \"\"\"\n",
    "        node = self.tree[node_id]\n",
    "        if node[0] == self.__class__.NON_LEAF_TYPE:\n",
    "            _, feature_id, threshold = node\n",
    "            if x[feature_id] > threshold:\n",
    "                return self.__predict_class(x, 2 * node_id + 1)\n",
    "            else:\n",
    "                return self.__predict_class(x, 2 * node_id + 2)\n",
    "        else:\n",
    "            return node[1]\n",
    "        \n",
    "    def predict(self, X):\n",
    "        \"\"\"\n",
    "        Вызывает predict для всех объектов из матрицы X\n",
    "        \"\"\"\n",
    "        return np.array([self.__predict_class(x, 0) for x in X])\n",
    "    \n",
    "    def fit_predict(self, x_train, y_train, predicted_x):\n",
    "        self.fit(x_train, y_train)\n",
    "        return self.predict(predicted_x)\n",
    "    \n",
    "    def get_feature_importance(self):\n",
    "        \"\"\"\n",
    "        Возвращает важность признаков\n",
    "        \"\"\"\n",
    "        return self.feature_importances_"
   ]
  },
  {
   "cell_type": "code",
   "execution_count": 1846,
   "metadata": {},
   "outputs": [],
   "source": [
    "my_clf = MyDecisionTreeClassifier(min_samples_split=2)\n",
    "clf = DecisionTreeClassifier(min_samples_split=2)"
   ]
  },
  {
   "cell_type": "code",
   "execution_count": 1847,
   "metadata": {},
   "outputs": [],
   "source": [
    "wine = load_wine()\n",
    "X_train, X_test, y_train, y_test = train_test_split(wine.data, wine.target, test_size=0.1, stratify=wine.target)"
   ]
  },
  {
   "cell_type": "code",
   "execution_count": 1848,
   "metadata": {},
   "outputs": [],
   "source": [
    "clf.fit(X_train, y_train)\n",
    "my_clf.fit(X_train, y_train)"
   ]
  },
  {
   "cell_type": "code",
   "execution_count": 1849,
   "metadata": {},
   "outputs": [
    {
     "name": "stdout",
     "output_type": "stream",
     "text": [
      "0.8333333333333334\n",
      "0.8888888888888888\n"
     ]
    }
   ],
   "source": [
    "print(accuracy_score(y_pred=clf.predict(X_test), y_true=y_test))\n",
    "print(accuracy_score(y_pred=my_clf.predict(X_test), y_true=y_test))"
   ]
  },
  {
   "cell_type": "markdown",
   "metadata": {},
   "source": [
    "## Ускоряем дерево решений (2 балла)\n",
    "Добиться скорости работы на fit не медленнее чем в 10 раз sklearn на данных wine. \n",
    "Для этого используем numpy."
   ]
  },
  {
   "cell_type": "code",
   "execution_count": 1850,
   "metadata": {
    "scrolled": true
   },
   "outputs": [
    {
     "name": "stdout",
     "output_type": "stream",
     "text": [
      "CPU times: user 1.93 ms, sys: 115 µs, total: 2.05 ms\n",
      "Wall time: 2.24 ms\n"
     ]
    },
    {
     "data": {
      "text/plain": [
       "DecisionTreeClassifier()"
      ]
     },
     "execution_count": 1850,
     "metadata": {},
     "output_type": "execute_result"
    }
   ],
   "source": [
    "%time clf.fit(X_train, y_train)"
   ]
  },
  {
   "cell_type": "code",
   "execution_count": 1851,
   "metadata": {},
   "outputs": [
    {
     "name": "stdout",
     "output_type": "stream",
     "text": [
      "CPU times: user 36.4 ms, sys: 3.08 ms, total: 39.5 ms\n",
      "Wall time: 38.4 ms\n"
     ]
    }
   ],
   "source": [
    "%time my_clf.fit(X_train, y_train)"
   ]
  },
  {
   "cell_type": "code",
   "execution_count": 1852,
   "metadata": {},
   "outputs": [
    {
     "data": {
      "text/plain": [
       "array([0.34372482, 0.20567266, 0.        , 0.        , 0.        ,\n",
       "       0.        , 0.1161895 , 0.        , 0.        , 0.        ,\n",
       "       0.06849856, 0.15313252, 0.11278193])"
      ]
     },
     "execution_count": 1852,
     "metadata": {},
     "output_type": "execute_result"
    }
   ],
   "source": [
    "my_clf.get_feature_importance()"
   ]
  },
  {
   "cell_type": "markdown",
   "metadata": {},
   "source": [
    "## Боевое применение (3 балла)\n",
    "\n",
    "На практике Вы познакомились с датасетом Speed Dating Data. В нем каждая пара в быстрых свиданиях характеризуется определенным набором признаков. Задача -- предсказать, произойдет ли матч пары (колонка match). \n",
    "\n",
    "Пример работы с датасетом можете найти в практике пункт 2\n",
    "https://github.com/VVVikulin/ml1.sphere/blob/master/2019-09/lecture_06/pract-trees.ipynb\n",
    "\n",
    "Данные и описания колонок лежат тут\n",
    "https://cloud.mail.ru/public/8nHV/p6J7wY1y1/speed-dating-experiment/"
   ]
  },
  {
   "cell_type": "markdown",
   "metadata": {},
   "source": [
    "Скачайте датасет, обработайте данные, как показано на семинаре или своим собственным способом. Обучите дерево классифкации. В качестве таргета возьмите колонку 'match'. Постарайтесь хорошо обработать признаки, чтобы выбить максимальную точность. Если точность будет близка к случайному гаданию, задание не будет защитано. \n"
   ]
  },
  {
   "cell_type": "markdown",
   "metadata": {},
   "source": [
    "### Обработка данных"
   ]
  },
  {
   "cell_type": "code",
   "execution_count": 1853,
   "metadata": {},
   "outputs": [],
   "source": [
    "def ohe(data, feature):\n",
    "    for val in data[feature].unique():\n",
    "        data[feature + '=' + str(val)] = (data[feature] == val).astype(float)"
   ]
  },
  {
   "cell_type": "code",
   "execution_count": 1854,
   "metadata": {
    "scrolled": true
   },
   "outputs": [
    {
     "data": {
      "text/plain": [
       "((286, 96), (286,))"
      ]
     },
     "execution_count": 1854,
     "metadata": {},
     "output_type": "execute_result"
    }
   ],
   "source": [
    "df = pd.read_csv('Speed Dating Data.csv', encoding='latin1')\n",
    "df.shape\n",
    "\n",
    "df = df.iloc[:, :97]\n",
    "df = df.drop(['id', 'idg', 'condtn', 'round', 'position', 'positin1', 'order', 'partner', 'age_o', 'race_o', 'pf_o_att', \n",
    "              'pf_o_sin', 'pf_o_int', 'pf_o_fun', 'pf_o_amb', 'pf_o_sha',\n",
    "              'dec_o', 'attr_o', 'sinc_o', 'intel_o', 'fun_o', 'amb_o', 'shar_o', 'like_o', 'field',\n",
    "              'prob_o','met_o', 'wave', 'undergra', 'from', 'zipcode', 'career', 'mn_sat', 'tuition'], axis=1)\n",
    "\n",
    "df = df.dropna(subset=['age'])\n",
    "\n",
    "ohe(df, 'field_cd')\n",
    "ohe(df, 'race')\n",
    "ohe(df, 'goal')\n",
    "ohe(df, 'career_c')\n",
    "ohe(df, 'go_out')\n",
    "df = df.drop(['field_cd', 'race', 'goal', 'career_c', 'go_out'], axis=1)\n",
    "df.shape\n",
    "\n",
    "for i in [4, 5]:\n",
    "    feat = ['attr{}_1'.format(i), 'sinc{}_1'.format(i), \n",
    "            'intel{}_1'.format(i), 'fun{}_1'.format(i), \n",
    "            'amb{}_1'.format(i), 'shar{}_1'.format(i)]\n",
    "    \n",
    "    if i != 4:\n",
    "        feat.remove('shar{}_1'.format(i))\n",
    "    \n",
    "    df = df.drop(feat, axis=1)\n",
    "\n",
    "df.shape\n",
    "\n",
    "df_male = df.query('gender == 1').drop_duplicates(subset=['iid', 'pid'])\\\n",
    "                                 .drop(['gender'], axis=1)\\\n",
    "                                 .dropna()\n",
    "df_female = df.query('gender == 0').drop_duplicates(subset=['iid'])\\\n",
    "                                   .drop(['gender', 'match', 'int_corr', 'samerace'], axis=1)\\\n",
    "                                   .dropna()\n",
    "        \n",
    "df_female.columns = df_female.columns + '_f'\n",
    "\n",
    "df_female.rename(columns=lambda x: x.replace('iid_f', 'pid'), inplace=True)\n",
    "\n",
    "new_df = df_male.merge(df_female.set_index('pid'), on='pid')\n",
    "new_df = new_df.drop(['pid', 'iid', 'pid_f'], axis=1)\n",
    "\n",
    "new_df['age'] -= new_df['age_f']\n",
    "new_df = new_df.drop(['age_f'], axis=1)\n",
    "\n",
    "for i in new_df.columns:\n",
    "    if type(new_df[i].iloc[0]) not in [np.float64, np.int64, float]:\n",
    "        new_df.drop(i, axis=1, inplace=True)\n",
    "        \n",
    "for i in new_df.columns:\n",
    "    if i + '_f' in new_df.columns:\n",
    "        new_df[i + '_res'] = new_df[i] - new_df[i + '_f']\n",
    "        new_df.drop(i, axis=1, inplace=True)\n",
    "        new_df.drop(i + '_f', axis=1, inplace=True)\n",
    "\n",
    "for i in new_df.columns:\n",
    "    if new_df[i].isnull().sum() > 0: \n",
    "        new_df.drop(i, axis=1, inplace=True)\n",
    "        \n",
    "new_df = new_df.fillna(-100000)\n",
    "new_df = new_df.drop(['goal=nan_res', 'career_c=1.0_res', 'career_c=6.0_res'], axis=1)\n",
    "\n",
    "\n",
    "y = new_df['match'].to_numpy()\n",
    "new_df = new_df.drop(['match'], axis=1)\n",
    "X = new_df.to_numpy()\n",
    "X.shape, y.shape"
   ]
  },
  {
   "cell_type": "markdown",
   "metadata": {},
   "source": [
    "### Подбираем gain"
   ]
  },
  {
   "cell_type": "markdown",
   "metadata": {},
   "source": [
    "Разбейте датасет на трейн и валидацию. Подберите на валидации оптимальный критерий  информативности. \n",
    "Постройте графики зависимости точности на валидации от глубины дерева, от минимального числа объектов для сплита. \n",
    "Какой максимальной точности удалось достигнуть?"
   ]
  },
  {
   "cell_type": "markdown",
   "metadata": {},
   "source": [
    "Будем ориентироваться на accuracy."
   ]
  },
  {
   "cell_type": "code",
   "execution_count": 1855,
   "metadata": {},
   "outputs": [],
   "source": [
    "def get_score(clf, X, y, scorer=accuracy_score, n_splits=3):\n",
    "    kf = KFold(n_splits)\n",
    "    scores = []\n",
    "    for train, test in kf.split(X, y):\n",
    "        X_train, X_test = X[train], X[test]\n",
    "        y_train, y_test = y[train], y[test]\n",
    "        y_pred = clf.fit_predict(X_train, y_train, X_test)\n",
    "        scores.append(scorer(y_test, y_pred))\n",
    "\n",
    "    return np.mean(scores)"
   ]
  },
  {
   "cell_type": "code",
   "execution_count": 1856,
   "metadata": {},
   "outputs": [],
   "source": [
    "ac_res = []\n",
    "gains = ['gini', 'entropy', 'classification_error']\n",
    "\n",
    "for gain in gains:\n",
    "    clf = MyDecisionTreeClassifier(min_samples_split=10, max_depth=10, criterion=gain)\n",
    "    ac_res.append(get_score(clf, X, y, accuracy_score))"
   ]
  },
  {
   "cell_type": "code",
   "execution_count": 1857,
   "metadata": {
    "scrolled": true
   },
   "outputs": [
    {
     "name": "stdout",
     "output_type": "stream",
     "text": [
      "accuracy:\n",
      "gini 0.7653143274853801\n",
      "entropy 0.7618055555555555\n",
      "classification_error 0.7547880116959065\n"
     ]
    }
   ],
   "source": [
    "print('accuracy:')\n",
    "for name, ac in zip(gains, ac_res):\n",
    "    print(name, ac)"
   ]
  },
  {
   "cell_type": "markdown",
   "metadata": {},
   "source": [
    "Воспользуемся entropy."
   ]
  },
  {
   "cell_type": "markdown",
   "metadata": {},
   "source": [
    "### Подбираем max_depth"
   ]
  },
  {
   "cell_type": "code",
   "execution_count": 1858,
   "metadata": {},
   "outputs": [],
   "source": [
    "scores = []\n",
    "depths = np.arange(1, 15, 1)\n",
    "for depth in depths:\n",
    "    clf = MyDecisionTreeClassifier(min_samples_split=1, max_depth=depth, criterion='entropy')\n",
    "    score = get_score(clf, X, y, n_splits=3)\n",
    "    scores.append(score)"
   ]
  },
  {
   "cell_type": "code",
   "execution_count": 1859,
   "metadata": {},
   "outputs": [
    {
     "data": {
      "text/plain": [
       "[<matplotlib.lines.Line2D at 0x7ffa8f25b220>]"
      ]
     },
     "execution_count": 1859,
     "metadata": {},
     "output_type": "execute_result"
    },
    {
     "data": {
      "image/png": "[encoded data removed]",
      "text/plain": [
       "<Figure size 1152x288 with 1 Axes>"
      ]
     },
     "metadata": {
      "needs_background": "light"
     },
     "output_type": "display_data"
    }
   ],
   "source": [
    "fig = plt.figure(figsize=(16,4))\n",
    "ax = fig.add_subplot(111)\n",
    "\n",
    "ax.set_title('Accuracy from depth')\n",
    "ax.set_xlabel('max depth')\n",
    "ax.set_ylabel('accuracy')\n",
    "ax.plot(depths, scores)"
   ]
  },
  {
   "cell_type": "markdown",
   "metadata": {},
   "source": [
    "### Подбираем min_samples"
   ]
  },
  {
   "cell_type": "code",
   "execution_count": 1860,
   "metadata": {},
   "outputs": [],
   "source": [
    "scores = []\n",
    "min_samples = np.arange(1, 25, 1)\n",
    "for count in min_samples:\n",
    "    clf = MyDecisionTreeClassifier(min_samples_split=count, max_depth=10, criterion='entropy')\n",
    "    scores.append(get_score(clf, X, y, n_splits=3))"
   ]
  },
  {
   "cell_type": "code",
   "execution_count": 1861,
   "metadata": {},
   "outputs": [
    {
     "data": {
      "text/plain": [
       "[<matplotlib.lines.Line2D at 0x7ffa8f5798b0>]"
      ]
     },
     "execution_count": 1861,
     "metadata": {},
     "output_type": "execute_result"
    },
    {
     "data": {
      "image/png": "[encoded data removed]",
      "text/plain": [
       "<Figure size 1152x288 with 1 Axes>"
      ]
     },
     "metadata": {
      "needs_background": "light"
     },
     "output_type": "display_data"
    }
   ],
   "source": [
    "fig = plt.figure(figsize=(16,4))\n",
    "ax = fig.add_subplot(111)\n",
    "\n",
    "ax.set_title('Accuracy from min samples split')\n",
    "ax.set_xlabel('min samples')\n",
    "ax.set_ylabel('accuracy')\n",
    "ax.plot(min_samples, scores)"
   ]
  },
  {
   "cell_type": "code",
   "execution_count": 1862,
   "metadata": {},
   "outputs": [],
   "source": [
    "depth_best = 10\n",
    "n_samples_best = 20"
   ]
  },
  {
   "cell_type": "markdown",
   "metadata": {},
   "source": [
    "## Находим самые важные признаки (2 балла)\n",
    "\n"
   ]
  },
  {
   "cell_type": "markdown",
   "metadata": {},
   "source": [
    "По построенному дереву  легко понять, какие признаки лучше всего помогли решить задачу. Часто это бывает нужно  не только  для сокращения размерности в данных, но и для лучшего понимания прикладной задачи. Например, Вы хотите понять, какие признаки стоит еще конструировать -- для этого нужно понимать, какие из текущих лучше всего работают в дереве. "
   ]
  },
  {
   "cell_type": "markdown",
   "metadata": {},
   "source": [
    "Самый простой метод -- посчитать число сплитов, где использовался данные признак. Это не лучший вариант, так как по признаку который принимает всего 2 значения, но который почти точно разделяет выборку, число сплитов будет очень 1, но при этом признак сам очень хороший. \n",
    "В этом задании предлагается для каждого признака считать суммарный gain (в лекции обозначено как Q) при использовании этого признака в сплите. Тогда даже у очень хороших признаков с маленьким число сплитов это значение должно быть довольно высоким.  "
   ]
  },
  {
   "cell_type": "markdown",
   "metadata": {},
   "source": [
    "Реализовать это довольно просто: создаете словарь номер фичи : суммарный гейн и добавляете в нужную фичу каждый раз, когда используете ее при построении дерева. "
   ]
  },
  {
   "cell_type": "markdown",
   "metadata": {},
   "source": [
    "Добавьте функционал, который определяет значения feature importance. Обучите дерево на датасете Speed Dating Data.\n",
    "Выведите 10 главных фичей по важности."
   ]
  },
  {
   "cell_type": "code",
   "execution_count": 1863,
   "metadata": {},
   "outputs": [],
   "source": [
    "clf = MyDecisionTreeClassifier(min_samples_split=n_samples_best, max_depth=depth_best, criterion='entropy')\n",
    "clf.fit(X, y)"
   ]
  },
  {
   "cell_type": "code",
   "execution_count": 1864,
   "metadata": {
    "scrolled": true
   },
   "outputs": [
    {
     "data": {
      "text/html": [
       "<div>\n",
       "<style scoped>\n",
       "    .dataframe tbody tr th:only-of-type {\n",
       "        vertical-align: middle;\n",
       "    }\n",
       "\n",
       "    .dataframe tbody tr th {\n",
       "        vertical-align: top;\n",
       "    }\n",
       "\n",
       "    .dataframe thead th {\n",
       "        text-align: right;\n",
       "    }\n",
       "</style>\n",
       "<table border=\"1\" class=\"dataframe\">\n",
       "  <thead>\n",
       "    <tr style=\"text-align: right;\">\n",
       "      <th></th>\n",
       "      <th>importance</th>\n",
       "    </tr>\n",
       "  </thead>\n",
       "  <tbody>\n",
       "    <tr>\n",
       "      <th>shar1_1_res</th>\n",
       "      <td>1.696186e-01</td>\n",
       "    </tr>\n",
       "    <tr>\n",
       "      <th>sinc1_1_res</th>\n",
       "      <td>1.530597e-01</td>\n",
       "    </tr>\n",
       "    <tr>\n",
       "      <th>yoga_res</th>\n",
       "      <td>1.440546e-01</td>\n",
       "    </tr>\n",
       "    <tr>\n",
       "      <th>field_cd=1.0_res</th>\n",
       "      <td>1.333222e-01</td>\n",
       "    </tr>\n",
       "    <tr>\n",
       "      <th>career_c=9.0_res</th>\n",
       "      <td>1.131888e-01</td>\n",
       "    </tr>\n",
       "    <tr>\n",
       "      <th>race=4.0_res</th>\n",
       "      <td>8.999716e-02</td>\n",
       "    </tr>\n",
       "    <tr>\n",
       "      <th>field_cd=8.0_res</th>\n",
       "      <td>7.871655e-02</td>\n",
       "    </tr>\n",
       "    <tr>\n",
       "      <th>go_out=3.0_res</th>\n",
       "      <td>6.261693e-02</td>\n",
       "    </tr>\n",
       "    <tr>\n",
       "      <th>field_cd=5.0_res</th>\n",
       "      <td>5.542555e-02</td>\n",
       "    </tr>\n",
       "    <tr>\n",
       "      <th>int_corr</th>\n",
       "      <td>2.358104e-29</td>\n",
       "    </tr>\n",
       "  </tbody>\n",
       "</table>\n",
       "</div>"
      ],
      "text/plain": [
       "                    importance\n",
       "shar1_1_res       1.696186e-01\n",
       "sinc1_1_res       1.530597e-01\n",
       "yoga_res          1.440546e-01\n",
       "field_cd=1.0_res  1.333222e-01\n",
       "career_c=9.0_res  1.131888e-01\n",
       "race=4.0_res      8.999716e-02\n",
       "field_cd=8.0_res  7.871655e-02\n",
       "go_out=3.0_res    6.261693e-02\n",
       "field_cd=5.0_res  5.542555e-02\n",
       "int_corr          2.358104e-29"
      ]
     },
     "execution_count": 1864,
     "metadata": {},
     "output_type": "execute_result"
    }
   ],
   "source": [
    "imp = clf.get_feature_importance()\n",
    "ind = np.nonzero(imp)\n",
    "columns = new_df.columns[ind]\n",
    "imp = imp[ind]\n",
    "\n",
    "ind = np.argsort(imp)[::-1]\n",
    "\n",
    "columns = columns[ind]\n",
    "imp = imp[ind]\n",
    "df = pd.DataFrame(imp, index=columns, columns=['importance'])\n",
    "df"
   ]
  },
  {
   "cell_type": "code",
   "execution_count": 1865,
   "metadata": {},
   "outputs": [
    {
     "name": "stdout",
     "output_type": "stream",
     "text": [
      "Index(['int_corr', 'age', 'imprace_res', 'imprelig_res', 'date_res',\n",
      "       'clubbing_res', 'expnum_res', 'sinc1_1_res', 'intel1_1_res',\n",
      "       'fun1_1_res', 'sinc2_1_res', 'shar2_1_res', 'field_cd=5.0_res',\n",
      "       'field_cd=4.0_res', 'career_c=9.0_res', 'go_out=4.0_res'],\n",
      "      dtype='object')\n",
      "[0.03590269 0.03824455 0.07774646 0.04088101 0.06394275 0.04782329\n",
      " 0.13960919 0.05066267 0.03908183 0.05304959 0.06185127 0.04061032\n",
      " 0.08192247 0.05350184 0.12671168 0.04845838]\n"
     ]
    }
   ],
   "source": [
    "clf = DecisionTreeClassifier(min_samples_split=10, max_depth=10, criterion='entropy')\n",
    "clf.fit(X, y)\n",
    "imp = clf.feature_importances_\n",
    "ind = np.nonzero(imp)\n",
    "print(new_df.columns[ind])\n",
    "print(imp[ind])"
   ]
  },
  {
   "cell_type": "markdown",
   "metadata": {},
   "source": [
    "## Фидбек (бесценно)"
   ]
  },
  {
   "cell_type": "markdown",
   "metadata": {},
   "source": [
    "* Какие аспекты обучения деревьев решений Вам показались непонятными? Какое место стоит дополнительно объяснить?"
   ]
  },
  {
   "cell_type": "markdown",
   "metadata": {},
   "source": [
    "### Ваш ответ здесь"
   ]
  },
  {
   "cell_type": "markdown",
   "metadata": {},
   "source": [
    "Долго было непонятно, как оптимизировать время обучения. Было сложно обрабатывать данные, было непонятно, как к этому вообще подойти. Нет уверенности, что для оценки качества выбрана \"правильная\" метрика. Было не очень понятно, как подбирать минимальное число сэмплов в листе - при наилучшем max_depth или при максимально возможном max_depth"
   ]
  },
  {
   "cell_type": "markdown",
   "metadata": {},
   "source": [
    "### ВАШ ОТЗЫВ ЗДЕСЬ\n",
    "\n"
   ]
  },
  {
   "cell_type": "markdown",
   "metadata": {
    "collapsed": true
   },
   "source": [
    "После лекций тема деревьев прошла как-то мимо. После выполнения задания понимание, как работают деревья, пришло :)"
   ]
  },
  {
   "cell_type": "code",
   "execution_count": null,
   "metadata": {},
   "outputs": [],
   "source": []
  }
 ],
 "metadata": {
  "anaconda-cloud": {},
  "kernelspec": {
   "display_name": "Python 3",
   "language": "python",
   "name": "python3"
  },
  "language_info": {
   "codemirror_mode": {
    "name": "ipython",
    "version": 3
   },
   "file_extension": ".py",
   "mimetype": "text/x-python",
   "name": "python",
   "nbconvert_exporter": "python",
   "pygments_lexer": "ipython3",
   "version": "3.8.3"
  }
 },
 "nbformat": 4,
 "nbformat_minor": 2
}
