{
 "cells": [
  {
   "cell_type": "code",
   "execution_count": 12,
   "metadata": {},
   "outputs": [],
   "source": [
    "import csv\n",
    "import numpy as np\n",
    "from sklearn.model_selection import StratifiedKFold\n",
    "from sklearn.metrics import accuracy_score\n",
    "from sklearn.metrics import f1_score\n",
    "from lightgbm import LGBMClassifier\n",
    "from sklearn.ensemble import RandomForestClassifier, StackingClassifier\n",
    "from sklearn.linear_model import LogisticRegression\n",
    "from sklearn.svm import SVC\n",
    "from sklearn.preprocessing import StandardScaler"
   ]
  },
  {
   "cell_type": "code",
   "execution_count": 13,
   "metadata": {},
   "outputs": [],
   "source": [
    "X_train = np.load('x_train.npy')\n",
    "X_test = np.load('x_test.npy')\n",
    "y_train = np.load('y_train.npy')"
   ]
  },
  {
   "cell_type": "code",
   "execution_count": 14,
   "metadata": {},
   "outputs": [],
   "source": [
    "scaler = StandardScaler()\n",
    "scaler.fit(X_train)\n",
    "X_train = scaler.transform(X_train)\n",
    "\n",
    "n_estimators=100\n",
    "min_samples_split=40\n",
    "batch_size=10\n",
    "max_depth=10\n",
    "treshold=0.5\n",
    "criterion='gini'\n",
    "n_splits=4\n",
    "metric='f1'\n",
    "\n",
    "# models = [('lr',LogisticRegression(max_iter=2000)),\n",
    "#           ('rf2',RandomForestClassifier(n_estimators=1000,\n",
    "#                                  min_samples_split=70, max_depth=8,\n",
    "#                                  oob_score=True, criterion=criterion)),\n",
    "#           ('rf', RandomForestClassifier(n_estimators=n_estimators,\n",
    "#                                  min_samples_split=min_samples_split, max_depth=max_depth,\n",
    "#                                  oob_score=True, criterion=criterion))]\n",
    "\n",
    "# clf = StackingClassifier(estimators=models)\n",
    "          \n",
    "clf = RandomForestClassifier(n_estimators=n_estimators,\n",
    "                                min_samples_split=min_samples_split, max_depth=max_depth,\n",
    "                                oob_score=True, criterion=criterion)\n",
    "\n",
    "clf.fit(X_train, y_train)\n",
    "\n",
    "X_test = scaler.transform(X_test)\n",
    "\n",
    "target = clf.predict(X_test)\n",
    "\n",
    "with open('submission1.csv', 'w') as f:\n",
    "    fields = ['pair_id', 'target']\n",
    "    writer = csv.DictWriter(f, fieldnames=fields)\n",
    "    writer.writeheader()\n",
    "    pi = 11691\n",
    "    for elem in target:\n",
    "        writer.writerow({'pair_id': str(pi), 'target': str(elem)})\n",
    "        pi += 1\n",
    "        \n",
    "f.close()"
   ]
  },
  {
   "cell_type": "code",
   "execution_count": null,
   "metadata": {},
   "outputs": [],
   "source": []
  },
  {
   "cell_type": "code",
   "execution_count": null,
   "metadata": {},
   "outputs": [],
   "source": []
  }
 ],
 "metadata": {
  "kernelspec": {
   "display_name": "Python 3",
   "language": "python",
   "name": "python3"
  },
  "language_info": {
   "codemirror_mode": {
    "name": "ipython",
    "version": 3
   },
   "file_extension": ".py",
   "mimetype": "text/x-python",
   "name": "python",
   "nbconvert_exporter": "python",
   "pygments_lexer": "ipython3",
   "version": "3.8.2"
  }
 },
 "nbformat": 4,
 "nbformat_minor": 4
}
