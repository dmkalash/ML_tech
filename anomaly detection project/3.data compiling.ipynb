{
 "cells": [
  {
   "cell_type": "code",
   "execution_count": 5,
   "metadata": {},
   "outputs": [],
   "source": [
    "import os\n",
    "import re\n",
    "from tqdm import tqdm"
   ]
  },
  {
   "cell_type": "code",
   "execution_count": 6,
   "metadata": {},
   "outputs": [
    {
     "name": "stdout",
     "output_type": "stream",
     "text": [
      "28026\n"
     ]
    }
   ],
   "source": [
    "doc_to_title = {}\n",
    "with open('docs_titles.tsv') as f:\n",
    "    for num_line, line in enumerate(f):\n",
    "        if num_line == 0:\n",
    "            continue\n",
    "        data = line.strip().split('\\t', 1)\n",
    "        doc_id = int(data[0])\n",
    "        if len(data) == 1:\n",
    "            title = ''\n",
    "        else:\n",
    "            title = data[1]\n",
    "        doc_to_title[doc_id] = title\n",
    "print(len(doc_to_title))"
   ]
  },
  {
   "cell_type": "code",
   "execution_count": 7,
   "metadata": {},
   "outputs": [
    {
     "data": {
      "text/plain": [
       "'Как быстро понизить холестерин. Высокий холестерин - Симптомы и лечение народными средствами в домашних условиях'"
      ]
     },
     "execution_count": 7,
     "metadata": {},
     "output_type": "execute_result"
    }
   ],
   "source": [
    "doc_to_title[5]"
   ]
  },
  {
   "cell_type": "code",
   "execution_count": 8,
   "metadata": {},
   "outputs": [
    {
     "name": "stderr",
     "output_type": "stream",
     "text": [
      "28026it [00:41, 670.12it/s]\n"
     ]
    }
   ],
   "source": [
    "for num, filename in tqdm(enumerate(os.listdir('content'))):\n",
    "    if filename == '.DS_Store':\n",
    "            continue\n",
    "    num = filename.split('.', 1)[0]\n",
    "    with open('description/' + num + '.dat_desc.txt') as desc, open('keywords/' + num + '.dat_kw.txt') as kw, open('compiled/' + num + '.txt', 'w') as comp:\n",
    "        desc_dt = desc.read()\n",
    "        kw_dt = kw.read()\n",
    "        \n",
    "        dt = desc_dt + kw_dt + doc_to_title[int(num)]\n",
    "        dt = dt.lower()\n",
    "        dt = re.sub(r'[0-9]+', ' ', dt)\n",
    "        dt = re.sub(r'он\\-лайн', 'онлайн', dt)\n",
    "        dt = re.sub(r's\\.t\\.a\\.l\\.k\\.e\\.r', 'stalker', dt)\n",
    "        dt = re.sub(r'\\'', '', dt)\n",
    "        dt = re.sub(r'\\\"', '', dt)\n",
    "        dt = re.sub(r'\\s+', ' ', dt)\n",
    "        print(dt, file=comp)\n",
    "        \n",
    "        doc_to_title[int(num)] = dt   "
   ]
  },
  {
   "cell_type": "code",
   "execution_count": 12,
   "metadata": {},
   "outputs": [
    {
     "name": "stdout",
     "output_type": "stream",
     "text": [
      "замена подшипников ступицы, руководство по ремонту и обслуживанию ваз замена подшипников ступицы, техническое описание ремонт сервисное обслуживание справочник ваз + годов выпуска ваз | замена подшипников ступицы | нива\n",
      "\n",
      "ваз оптом. продажа, поиск, поставщики и магазины, цены в сочи ваз оптом, россия, сочи, цены, предложение, каталог, разместить, добавить, товары, услуги, поиск ваз оптом в сочи. сравнить цены, купить потребительские товары на tiu.ru\n",
      "\n",
      "продажа запчастей ступица для легковых и грузовых авто лада калина . переходные ступицы, кулак, ступица в сборе тюнинг, замена, цена. база автозапчастей трансмиссия для авто. цена, замена, тюнинг, купить, продать, ступица, трансмиссия, лада калина , запчасти, каталог, база, автозапчасти, переходные ступицы, кулак, ступица в сборе, ступичный блок, ступичный узел, ступица кулак цапфа, ступица колеса, ступица колеса в сборе, ступица дисковая, ступица болта купить ступица лада калина . трансмиссия - переходные ступицы цена, замена, тюнинг.\n",
      "\n",
      "классика - \n",
      "\n",
      "передняя ступица нива имеет свои особенности в.устройстве. как производится замена подшипников ступицы нива своими руками? какие нужны инструменты для работы? ступица нива — замена подшипника своими руками\n",
      "\n",
      "если менять и пружины, то наиболее распространенными вариантами для амортизаторов этого типа являются так называемые европейские пружины, пружины, более жесткие пружины спереди и сзади. выбор пал на огни неизвестного производства после покупки задумался об установке. ваз \n",
      "\n",
      "форум http forum.teoria dvs index.php группа вконтакте http vk clubzpkr подшипник , ваз, полуоси, подшипников, обзор, obzor, podshipnikov, poluosi, vaz, , обзор подшипников полуоси ваз - , , \n",
      "\n"
     ]
    }
   ],
   "source": [
    "for k, text in enumerate(doc_to_title):\n",
    "    print(doc_to_title[text])\n",
    "    print()\n",
    "    if k > 5:\n",
    "        break"
   ]
  },
  {
   "cell_type": "code",
   "execution_count": 27,
   "metadata": {},
   "outputs": [],
   "source": [
    "from nltk.corpus import stopwords\n",
    "\n",
    "import ssl\n",
    "ssl._create_default_https_context = ssl._create_stdlib_context\n",
    "import nltk\n",
    "nltk.download('stopwords')\n",
    "\n",
    "stop_words = []\n",
    "with open('stop words.txt') as f:\n",
    "    for line in f:\n",
    "        stop_words.append(line.strip())\n",
    "stop_words[0] = stop_words[0][-3:]\n",
    "stop_words += ['http', 'ru', 'com']\n",
    "\n",
    "\n",
    "russian_stopwords = stopwords.words(\"russian\")\n",
    "russian_stopwords.extend(['это', 'нею'])\n",
    "\n",
    "stop_words += russian_stopwords"
   ]
  },
  {
   "cell_type": "code",
   "execution_count": 33,
   "metadata": {},
   "outputs": [],
   "source": []
  },
  {
   "cell_type": "code",
   "execution_count": 35,
   "metadata": {},
   "outputs": [],
   "source": []
  },
  {
   "cell_type": "code",
   "execution_count": 39,
   "metadata": {},
   "outputs": [
    {
     "data": {
      "text/plain": [
       "'dvs'"
      ]
     },
     "execution_count": 39,
     "metadata": {},
     "output_type": "execute_result"
    }
   ],
   "source": [
    "import pymorphy2\n",
    "morph = pymorphy2.MorphAnalyzer()\n",
    "\n",
    "text_out = []\n",
    "vectorizer = TfidfVectorizer(stop_words=stop_words)\n",
    "for text in texts:\n",
    "    upd_text = vectorizer.build_preprocessor()(text)\n",
    "    words = vectorizer.build_tokenizer()(upd_text)\n",
    "    upd_words = []\n",
    "    for word in words:\n",
    "        upd_words.append( morph.parse(word)[0].normal_form )\n",
    "    out = ''\n",
    "    for word in upd_words:\n",
    "        out += word + ' '\n",
    "    text_out.append(out)\n",
    "    \n",
    "text_out"
   ]
  },
  {
   "cell_type": "code",
   "execution_count": null,
   "metadata": {},
   "outputs": [],
   "source": [
    "'''\n",
    "он-лайн -> онлайн 1390\n",
    "s.t.a.l.k.e.r -> stalker 101\n",
    "заменить ' и \" на пустое\n",
    "заменить \\s+ на ' '\n",
    "убрать цифры\n",
    "\n",
    "'''"
   ]
  }
 ],
 "metadata": {
  "kernelspec": {
   "display_name": "Python 3",
   "language": "python",
   "name": "python3"
  },
  "language_info": {
   "codemirror_mode": {
    "name": "ipython",
    "version": 3
   },
   "file_extension": ".py",
   "mimetype": "text/x-python",
   "name": "python",
   "nbconvert_exporter": "python",
   "pygments_lexer": "ipython3",
   "version": "3.8.2"
  }
 },
 "nbformat": 4,
 "nbformat_minor": 4
}
